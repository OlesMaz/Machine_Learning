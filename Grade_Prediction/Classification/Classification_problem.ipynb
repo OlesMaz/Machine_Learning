{
 "cells": [
  {
   "cell_type": "markdown",
   "metadata": {},
   "source": [
    "Датасет `data_bin.csv` містить дані про студентів та підсумкові семестрові оцінки. \n",
    "\n",
    "Цільовою змінною є \"PASSED\" -- приймає два значення \n",
    "\n",
    "   * `True` якщо оцінка за семестр є більшою за 10\n",
    "   * `False` якщо оцінка за семестр є меншою за 11\n",
    "\n",
    "Файл `attributes.csv` містить повні назви ознак.\n",
    "\n",
    "Датасет `predict.csv` не містить значень цільової змінної і призначений для зовнішнього оцінювання.  "
   ]
  },
  {
   "cell_type": "code",
   "execution_count": 1,
   "metadata": {},
   "outputs": [],
   "source": [
    "import sklearn\n",
    "import numpy as np\n",
    "import pandas as pd\n",
    "import matplotlib.pyplot as plt \n",
    "import ipywidgets as widgets\n",
    "import seaborn as sns\n",
    "sns.set_style(\"whitegrid\")\n",
    "import warnings\n",
    "warnings.filterwarnings(\"ignore\")"
   ]
  },
  {
   "cell_type": "markdown",
   "metadata": {},
   "source": [
    "## Завдання 1\n",
    "\n",
    "[2 бали] \n",
    "\n",
    "Імпортувати датасет `data.csv` у об'єкт `DataFrame` і провести попередній аналіз даних засобами `pandas`, `matplotlib`, `seaborn`. \n",
    "\n",
    "Цільовою змінною є \"PASSED\""
   ]
  },
  {
   "cell_type": "code",
   "execution_count": 2,
   "metadata": {},
   "outputs": [
    {
     "data": {
      "text/html": [
       "<div>\n",
       "<style scoped>\n",
       "    .dataframe tbody tr th:only-of-type {\n",
       "        vertical-align: middle;\n",
       "    }\n",
       "\n",
       "    .dataframe tbody tr th {\n",
       "        vertical-align: top;\n",
       "    }\n",
       "\n",
       "    .dataframe thead th {\n",
       "        text-align: right;\n",
       "    }\n",
       "</style>\n",
       "<table border=\"1\" class=\"dataframe\">\n",
       "  <thead>\n",
       "    <tr style=\"text-align: right;\">\n",
       "      <th></th>\n",
       "      <th>school</th>\n",
       "      <th>sex</th>\n",
       "      <th>age</th>\n",
       "      <th>address</th>\n",
       "      <th>famsize</th>\n",
       "      <th>Pstatus</th>\n",
       "      <th>Medu</th>\n",
       "      <th>Fedu</th>\n",
       "      <th>Mjob</th>\n",
       "      <th>Fjob</th>\n",
       "      <th>...</th>\n",
       "      <th>romantic</th>\n",
       "      <th>famrel</th>\n",
       "      <th>freetime</th>\n",
       "      <th>goout</th>\n",
       "      <th>Dalc</th>\n",
       "      <th>Walc</th>\n",
       "      <th>health</th>\n",
       "      <th>absences</th>\n",
       "      <th>sem</th>\n",
       "      <th>PASSED</th>\n",
       "    </tr>\n",
       "  </thead>\n",
       "  <tbody>\n",
       "    <tr>\n",
       "      <th>0</th>\n",
       "      <td>GP</td>\n",
       "      <td>F</td>\n",
       "      <td>18</td>\n",
       "      <td>U</td>\n",
       "      <td>GT3</td>\n",
       "      <td>A</td>\n",
       "      <td>4</td>\n",
       "      <td>4</td>\n",
       "      <td>at_home</td>\n",
       "      <td>teacher</td>\n",
       "      <td>...</td>\n",
       "      <td>no</td>\n",
       "      <td>4</td>\n",
       "      <td>3</td>\n",
       "      <td>4</td>\n",
       "      <td>1</td>\n",
       "      <td>1</td>\n",
       "      <td>3</td>\n",
       "      <td>4</td>\n",
       "      <td>-2.302585</td>\n",
       "      <td>True</td>\n",
       "    </tr>\n",
       "    <tr>\n",
       "      <th>1</th>\n",
       "      <td>GP</td>\n",
       "      <td>F</td>\n",
       "      <td>17</td>\n",
       "      <td>U</td>\n",
       "      <td>GT3</td>\n",
       "      <td>T</td>\n",
       "      <td>1</td>\n",
       "      <td>1</td>\n",
       "      <td>at_home</td>\n",
       "      <td>other</td>\n",
       "      <td>...</td>\n",
       "      <td>no</td>\n",
       "      <td>5</td>\n",
       "      <td>3</td>\n",
       "      <td>3</td>\n",
       "      <td>1</td>\n",
       "      <td>1</td>\n",
       "      <td>3</td>\n",
       "      <td>2</td>\n",
       "      <td>2.208274</td>\n",
       "      <td>True</td>\n",
       "    </tr>\n",
       "    <tr>\n",
       "      <th>2</th>\n",
       "      <td>GP</td>\n",
       "      <td>F</td>\n",
       "      <td>15</td>\n",
       "      <td>U</td>\n",
       "      <td>LE3</td>\n",
       "      <td>T</td>\n",
       "      <td>1</td>\n",
       "      <td>1</td>\n",
       "      <td>at_home</td>\n",
       "      <td>other</td>\n",
       "      <td>...</td>\n",
       "      <td>no</td>\n",
       "      <td>4</td>\n",
       "      <td>3</td>\n",
       "      <td>2</td>\n",
       "      <td>2</td>\n",
       "      <td>3</td>\n",
       "      <td>3</td>\n",
       "      <td>6</td>\n",
       "      <td>2.493205</td>\n",
       "      <td>True</td>\n",
       "    </tr>\n",
       "    <tr>\n",
       "      <th>3</th>\n",
       "      <td>GP</td>\n",
       "      <td>F</td>\n",
       "      <td>15</td>\n",
       "      <td>U</td>\n",
       "      <td>GT3</td>\n",
       "      <td>T</td>\n",
       "      <td>4</td>\n",
       "      <td>2</td>\n",
       "      <td>health</td>\n",
       "      <td>services</td>\n",
       "      <td>...</td>\n",
       "      <td>yes</td>\n",
       "      <td>3</td>\n",
       "      <td>2</td>\n",
       "      <td>2</td>\n",
       "      <td>1</td>\n",
       "      <td>1</td>\n",
       "      <td>5</td>\n",
       "      <td>0</td>\n",
       "      <td>2.646175</td>\n",
       "      <td>True</td>\n",
       "    </tr>\n",
       "    <tr>\n",
       "      <th>4</th>\n",
       "      <td>GP</td>\n",
       "      <td>F</td>\n",
       "      <td>16</td>\n",
       "      <td>U</td>\n",
       "      <td>GT3</td>\n",
       "      <td>T</td>\n",
       "      <td>3</td>\n",
       "      <td>3</td>\n",
       "      <td>other</td>\n",
       "      <td>other</td>\n",
       "      <td>...</td>\n",
       "      <td>no</td>\n",
       "      <td>4</td>\n",
       "      <td>3</td>\n",
       "      <td>2</td>\n",
       "      <td>1</td>\n",
       "      <td>2</td>\n",
       "      <td>5</td>\n",
       "      <td>0</td>\n",
       "      <td>2.406945</td>\n",
       "      <td>True</td>\n",
       "    </tr>\n",
       "    <tr>\n",
       "      <th>...</th>\n",
       "      <td>...</td>\n",
       "      <td>...</td>\n",
       "      <td>...</td>\n",
       "      <td>...</td>\n",
       "      <td>...</td>\n",
       "      <td>...</td>\n",
       "      <td>...</td>\n",
       "      <td>...</td>\n",
       "      <td>...</td>\n",
       "      <td>...</td>\n",
       "      <td>...</td>\n",
       "      <td>...</td>\n",
       "      <td>...</td>\n",
       "      <td>...</td>\n",
       "      <td>...</td>\n",
       "      <td>...</td>\n",
       "      <td>...</td>\n",
       "      <td>...</td>\n",
       "      <td>...</td>\n",
       "      <td>...</td>\n",
       "      <td>...</td>\n",
       "    </tr>\n",
       "    <tr>\n",
       "      <th>939</th>\n",
       "      <td>MS</td>\n",
       "      <td>M</td>\n",
       "      <td>20</td>\n",
       "      <td>U</td>\n",
       "      <td>LE3</td>\n",
       "      <td>A</td>\n",
       "      <td>2</td>\n",
       "      <td>2</td>\n",
       "      <td>services</td>\n",
       "      <td>services</td>\n",
       "      <td>...</td>\n",
       "      <td>no</td>\n",
       "      <td>5</td>\n",
       "      <td>5</td>\n",
       "      <td>4</td>\n",
       "      <td>4</td>\n",
       "      <td>5</td>\n",
       "      <td>4</td>\n",
       "      <td>11</td>\n",
       "      <td>2.208274</td>\n",
       "      <td>False</td>\n",
       "    </tr>\n",
       "    <tr>\n",
       "      <th>940</th>\n",
       "      <td>MS</td>\n",
       "      <td>M</td>\n",
       "      <td>17</td>\n",
       "      <td>U</td>\n",
       "      <td>LE3</td>\n",
       "      <td>T</td>\n",
       "      <td>3</td>\n",
       "      <td>1</td>\n",
       "      <td>services</td>\n",
       "      <td>services</td>\n",
       "      <td>...</td>\n",
       "      <td>no</td>\n",
       "      <td>2</td>\n",
       "      <td>4</td>\n",
       "      <td>5</td>\n",
       "      <td>3</td>\n",
       "      <td>4</td>\n",
       "      <td>2</td>\n",
       "      <td>3</td>\n",
       "      <td>2.646175</td>\n",
       "      <td>True</td>\n",
       "    </tr>\n",
       "    <tr>\n",
       "      <th>941</th>\n",
       "      <td>MS</td>\n",
       "      <td>M</td>\n",
       "      <td>21</td>\n",
       "      <td>R</td>\n",
       "      <td>GT3</td>\n",
       "      <td>T</td>\n",
       "      <td>1</td>\n",
       "      <td>1</td>\n",
       "      <td>other</td>\n",
       "      <td>other</td>\n",
       "      <td>...</td>\n",
       "      <td>no</td>\n",
       "      <td>5</td>\n",
       "      <td>5</td>\n",
       "      <td>3</td>\n",
       "      <td>3</td>\n",
       "      <td>3</td>\n",
       "      <td>3</td>\n",
       "      <td>3</td>\n",
       "      <td>2.091864</td>\n",
       "      <td>False</td>\n",
       "    </tr>\n",
       "    <tr>\n",
       "      <th>942</th>\n",
       "      <td>MS</td>\n",
       "      <td>M</td>\n",
       "      <td>18</td>\n",
       "      <td>R</td>\n",
       "      <td>LE3</td>\n",
       "      <td>T</td>\n",
       "      <td>3</td>\n",
       "      <td>2</td>\n",
       "      <td>services</td>\n",
       "      <td>other</td>\n",
       "      <td>...</td>\n",
       "      <td>no</td>\n",
       "      <td>4</td>\n",
       "      <td>4</td>\n",
       "      <td>1</td>\n",
       "      <td>3</td>\n",
       "      <td>4</td>\n",
       "      <td>5</td>\n",
       "      <td>0</td>\n",
       "      <td>2.406945</td>\n",
       "      <td>False</td>\n",
       "    </tr>\n",
       "    <tr>\n",
       "      <th>943</th>\n",
       "      <td>MS</td>\n",
       "      <td>M</td>\n",
       "      <td>19</td>\n",
       "      <td>U</td>\n",
       "      <td>LE3</td>\n",
       "      <td>T</td>\n",
       "      <td>1</td>\n",
       "      <td>1</td>\n",
       "      <td>other</td>\n",
       "      <td>at_home</td>\n",
       "      <td>...</td>\n",
       "      <td>no</td>\n",
       "      <td>3</td>\n",
       "      <td>2</td>\n",
       "      <td>3</td>\n",
       "      <td>3</td>\n",
       "      <td>3</td>\n",
       "      <td>5</td>\n",
       "      <td>5</td>\n",
       "      <td>2.091864</td>\n",
       "      <td>False</td>\n",
       "    </tr>\n",
       "  </tbody>\n",
       "</table>\n",
       "<p>944 rows × 32 columns</p>\n",
       "</div>"
      ],
      "text/plain": [
       "    school sex  age address famsize Pstatus  Medu  Fedu      Mjob      Fjob  \\\n",
       "0       GP   F   18       U     GT3       A     4     4   at_home   teacher   \n",
       "1       GP   F   17       U     GT3       T     1     1   at_home     other   \n",
       "2       GP   F   15       U     LE3       T     1     1   at_home     other   \n",
       "3       GP   F   15       U     GT3       T     4     2    health  services   \n",
       "4       GP   F   16       U     GT3       T     3     3     other     other   \n",
       "..     ...  ..  ...     ...     ...     ...   ...   ...       ...       ...   \n",
       "939     MS   M   20       U     LE3       A     2     2  services  services   \n",
       "940     MS   M   17       U     LE3       T     3     1  services  services   \n",
       "941     MS   M   21       R     GT3       T     1     1     other     other   \n",
       "942     MS   M   18       R     LE3       T     3     2  services     other   \n",
       "943     MS   M   19       U     LE3       T     1     1     other   at_home   \n",
       "\n",
       "     ... romantic famrel  freetime  goout  Dalc Walc health absences  \\\n",
       "0    ...       no      4         3      4     1    1      3        4   \n",
       "1    ...       no      5         3      3     1    1      3        2   \n",
       "2    ...       no      4         3      2     2    3      3        6   \n",
       "3    ...      yes      3         2      2     1    1      5        0   \n",
       "4    ...       no      4         3      2     1    2      5        0   \n",
       "..   ...      ...    ...       ...    ...   ...  ...    ...      ...   \n",
       "939  ...       no      5         5      4     4    5      4       11   \n",
       "940  ...       no      2         4      5     3    4      2        3   \n",
       "941  ...       no      5         5      3     3    3      3        3   \n",
       "942  ...       no      4         4      1     3    4      5        0   \n",
       "943  ...       no      3         2      3     3    3      5        5   \n",
       "\n",
       "          sem PASSED  \n",
       "0   -2.302585   True  \n",
       "1    2.208274   True  \n",
       "2    2.493205   True  \n",
       "3    2.646175   True  \n",
       "4    2.406945   True  \n",
       "..        ...    ...  \n",
       "939  2.208274  False  \n",
       "940  2.646175   True  \n",
       "941  2.091864  False  \n",
       "942  2.406945  False  \n",
       "943  2.091864  False  \n",
       "\n",
       "[944 rows x 32 columns]"
      ]
     },
     "execution_count": 2,
     "metadata": {},
     "output_type": "execute_result"
    }
   ],
   "source": [
    "DataFrame = pd.read_csv(\"data_bin.csv\")\n",
    "DataFrame"
   ]
  },
  {
   "cell_type": "code",
   "execution_count": 3,
   "metadata": {},
   "outputs": [
    {
     "data": {
      "text/plain": [
       "(944, 32)"
      ]
     },
     "execution_count": 3,
     "metadata": {},
     "output_type": "execute_result"
    }
   ],
   "source": [
    "DataFrame.shape"
   ]
  },
  {
   "cell_type": "code",
   "execution_count": 4,
   "metadata": {},
   "outputs": [
    {
     "name": "stdout",
     "output_type": "stream",
     "text": [
      "<class 'pandas.core.frame.DataFrame'>\n",
      "RangeIndex: 944 entries, 0 to 943\n",
      "Data columns (total 32 columns):\n",
      " #   Column      Non-Null Count  Dtype  \n",
      "---  ------      --------------  -----  \n",
      " 0   school      944 non-null    object \n",
      " 1   sex         944 non-null    object \n",
      " 2   age         944 non-null    int64  \n",
      " 3   address     944 non-null    object \n",
      " 4   famsize     944 non-null    object \n",
      " 5   Pstatus     944 non-null    object \n",
      " 6   Medu        944 non-null    int64  \n",
      " 7   Fedu        944 non-null    int64  \n",
      " 8   Mjob        944 non-null    object \n",
      " 9   Fjob        944 non-null    object \n",
      " 10  reason      944 non-null    object \n",
      " 11  guardian    944 non-null    object \n",
      " 12  traveltime  944 non-null    int64  \n",
      " 13  studytime   944 non-null    int64  \n",
      " 14  failures    944 non-null    int64  \n",
      " 15  schoolsup   944 non-null    object \n",
      " 16  famsup      944 non-null    object \n",
      " 17  paid        944 non-null    object \n",
      " 18  activities  944 non-null    object \n",
      " 19  nursery     944 non-null    object \n",
      " 20  higher      944 non-null    object \n",
      " 21  internet    944 non-null    object \n",
      " 22  romantic    944 non-null    object \n",
      " 23  famrel      944 non-null    int64  \n",
      " 24  freetime    944 non-null    int64  \n",
      " 25  goout       944 non-null    int64  \n",
      " 26  Dalc        944 non-null    int64  \n",
      " 27  Walc        944 non-null    int64  \n",
      " 28  health      944 non-null    int64  \n",
      " 29  absences    944 non-null    int64  \n",
      " 30  sem         944 non-null    float64\n",
      " 31  PASSED      944 non-null    bool   \n",
      "dtypes: bool(1), float64(1), int64(13), object(17)\n",
      "memory usage: 229.7+ KB\n"
     ]
    }
   ],
   "source": [
    "DataFrame.info()"
   ]
  },
  {
   "cell_type": "markdown",
   "metadata": {},
   "source": [
    "Отже, маємо 944 об'єкта, 31 ознаку і цільову змінну. Всі значення є non-null. Подивимось на опис кожної ознаки:"
   ]
  },
  {
   "cell_type": "code",
   "execution_count": 5,
   "metadata": {},
   "outputs": [
    {
     "data": {
      "application/vnd.jupyter.widget-view+json": {
       "model_id": "0bf3bf335c824d4eb420693c063886fc",
       "version_major": 2,
       "version_minor": 0
      },
      "text/plain": [
       "interactive(children=(Dropdown(description='Column:', options=('school', 'sex', 'age', 'address', 'famsize', '…"
      ]
     },
     "metadata": {},
     "output_type": "display_data"
    },
    {
     "data": {
      "text/plain": [
       "<function __main__.get_describe(column)>"
      ]
     },
     "execution_count": 5,
     "metadata": {},
     "output_type": "execute_result"
    }
   ],
   "source": [
    "def get_describe(column):\n",
    "    return DataFrame[column].describe()\n",
    "widgets.interact(get_describe, column=widgets.Dropdown(options=DataFrame.columns, description=\"Column:\"))"
   ]
  },
  {
   "cell_type": "markdown",
   "metadata": {},
   "source": [
    "Подивимось на цільову змінну:"
   ]
  },
  {
   "cell_type": "code",
   "execution_count": 6,
   "metadata": {},
   "outputs": [
    {
     "data": {
      "text/plain": [
       "<Axes: xlabel='PASSED', ylabel='count'>"
      ]
     },
     "execution_count": 6,
     "metadata": {},
     "output_type": "execute_result"
    },
    {
     "data": {
      "image/png": "[encoded data removed]",
      "text/plain": [
       "<Figure size 640x480 with 1 Axes>"
      ]
     },
     "metadata": {},
     "output_type": "display_data"
    }
   ],
   "source": [
    "sns.countplot(x='PASSED',data=DataFrame, palette=\"YlGnBu\")"
   ]
  },
  {
   "cell_type": "markdown",
   "metadata": {},
   "source": [
    "Бачимо, що є набагато більше учнів, які здали екзамен. Це може повпливати на результати навчання (якщо наприклад в навчальну чи тестову вибірки попаде дуже мало об'єктів меншого за розмірами класу), тому під час навчання пробуватимемо ставити вагу класів `balanced`(Хоча таке співвідношення розмірів і не вважається надто неврівноваженим).\n",
    "\n",
    "Можемо побудувати аналогічний графік, який буде показувати розподіл `Passed` відносно інших ознак."
   ]
  },
  {
   "cell_type": "code",
   "execution_count": 7,
   "metadata": {},
   "outputs": [
    {
     "data": {
      "application/vnd.jupyter.widget-view+json": {
       "model_id": "fdb4fc78b3724ef2a32e11c497decaf5",
       "version_major": 2,
       "version_minor": 0
      },
      "text/plain": [
       "interactive(children=(Dropdown(description='Column:', options=('school', 'sex', 'age', 'address', 'famsize', '…"
      ]
     },
     "metadata": {},
     "output_type": "display_data"
    },
    {
     "data": {
      "text/plain": [
       "<function __main__.<lambda>(hue)>"
      ]
     },
     "execution_count": 7,
     "metadata": {},
     "output_type": "execute_result"
    }
   ],
   "source": [
    "widgets.interact(lambda hue: sns.countplot(x='PASSED',data=DataFrame, hue=hue, palette=\"YlGnBu\"), hue=widgets.Dropdown(options=DataFrame.drop(columns=\"PASSED\").columns, description=\"Column:\"))"
   ]
  },
  {
   "cell_type": "markdown",
   "metadata": {},
   "source": [
    "Побудуємо інший графік, який показуватиме середнє значення `Passed` в залежності від значень решти ознак"
   ]
  },
  {
   "cell_type": "code",
   "execution_count": 8,
   "metadata": {},
   "outputs": [
    {
     "data": {
      "application/vnd.jupyter.widget-view+json": {
       "model_id": "dbcc80873736436b9bfc2d7e7ba4b69e",
       "version_major": 2,
       "version_minor": 0
      },
      "text/plain": [
       "interactive(children=(Dropdown(description='Column:', options=('school', 'sex', 'age', 'address', 'famsize', '…"
      ]
     },
     "metadata": {},
     "output_type": "display_data"
    },
    {
     "data": {
      "text/plain": [
       "<function __main__.<lambda>(x)>"
      ]
     },
     "execution_count": 8,
     "metadata": {},
     "output_type": "execute_result"
    }
   ],
   "source": [
    "widgets.interact(lambda x: sns.barplot(x=x, y='PASSED',data=DataFrame, palette=\"YlGnBu\"), x=widgets.Dropdown(options=DataFrame.drop(columns=\"PASSED\").columns, description=\"Column:\"))"
   ]
  },
  {
   "cell_type": "markdown",
   "metadata": {},
   "source": [
    "Можемо зрозуміти, що наприклад для ознаки `studytime`, навчаючись 5-10 годин на тиждень, учень має найвищий шанс здати екзамен."
   ]
  },
  {
   "cell_type": "markdown",
   "metadata": {},
   "source": [
    "Побудуємо heatmap графік, який покаже шанс здати екзамен, в залежності від освіти батьків."
   ]
  },
  {
   "cell_type": "code",
   "execution_count": 9,
   "metadata": {},
   "outputs": [
    {
     "data": {
      "text/html": [
       "<div>\n",
       "<style scoped>\n",
       "    .dataframe tbody tr th:only-of-type {\n",
       "        vertical-align: middle;\n",
       "    }\n",
       "\n",
       "    .dataframe tbody tr th {\n",
       "        vertical-align: top;\n",
       "    }\n",
       "\n",
       "    .dataframe thead th {\n",
       "        text-align: right;\n",
       "    }\n",
       "</style>\n",
       "<table border=\"1\" class=\"dataframe\">\n",
       "  <thead>\n",
       "    <tr style=\"text-align: right;\">\n",
       "      <th></th>\n",
       "      <th></th>\n",
       "      <th>mean</th>\n",
       "      <th>count</th>\n",
       "    </tr>\n",
       "    <tr>\n",
       "      <th>Medu</th>\n",
       "      <th>Fedu</th>\n",
       "      <th></th>\n",
       "      <th></th>\n",
       "    </tr>\n",
       "  </thead>\n",
       "  <tbody>\n",
       "    <tr>\n",
       "      <th rowspan=\"3\" valign=\"top\">0</th>\n",
       "      <th>0</th>\n",
       "      <td>1.000000</td>\n",
       "      <td>1</td>\n",
       "    </tr>\n",
       "    <tr>\n",
       "      <th>1</th>\n",
       "      <td>0.333333</td>\n",
       "      <td>3</td>\n",
       "    </tr>\n",
       "    <tr>\n",
       "      <th>2</th>\n",
       "      <td>1.000000</td>\n",
       "      <td>5</td>\n",
       "    </tr>\n",
       "    <tr>\n",
       "      <th rowspan=\"5\" valign=\"top\">1</th>\n",
       "      <th>0</th>\n",
       "      <td>0.750000</td>\n",
       "      <td>4</td>\n",
       "    </tr>\n",
       "    <tr>\n",
       "      <th>1</th>\n",
       "      <td>0.458716</td>\n",
       "      <td>109</td>\n",
       "    </tr>\n",
       "    <tr>\n",
       "      <th>2</th>\n",
       "      <td>0.574468</td>\n",
       "      <td>47</td>\n",
       "    </tr>\n",
       "    <tr>\n",
       "      <th>3</th>\n",
       "      <td>0.384615</td>\n",
       "      <td>13</td>\n",
       "    </tr>\n",
       "    <tr>\n",
       "      <th>4</th>\n",
       "      <td>0.666667</td>\n",
       "      <td>3</td>\n",
       "    </tr>\n",
       "    <tr>\n",
       "      <th rowspan=\"4\" valign=\"top\">2</th>\n",
       "      <th>1</th>\n",
       "      <td>0.567568</td>\n",
       "      <td>74</td>\n",
       "    </tr>\n",
       "    <tr>\n",
       "      <th>2</th>\n",
       "      <td>0.658915</td>\n",
       "      <td>129</td>\n",
       "    </tr>\n",
       "    <tr>\n",
       "      <th>3</th>\n",
       "      <td>0.648649</td>\n",
       "      <td>37</td>\n",
       "    </tr>\n",
       "    <tr>\n",
       "      <th>4</th>\n",
       "      <td>0.615385</td>\n",
       "      <td>13</td>\n",
       "    </tr>\n",
       "    <tr>\n",
       "      <th rowspan=\"4\" valign=\"top\">3</th>\n",
       "      <th>1</th>\n",
       "      <td>0.545455</td>\n",
       "      <td>33</td>\n",
       "    </tr>\n",
       "    <tr>\n",
       "      <th>2</th>\n",
       "      <td>0.597015</td>\n",
       "      <td>67</td>\n",
       "    </tr>\n",
       "    <tr>\n",
       "      <th>3</th>\n",
       "      <td>0.617284</td>\n",
       "      <td>81</td>\n",
       "    </tr>\n",
       "    <tr>\n",
       "      <th>4</th>\n",
       "      <td>0.722222</td>\n",
       "      <td>36</td>\n",
       "    </tr>\n",
       "    <tr>\n",
       "      <th rowspan=\"5\" valign=\"top\">4</th>\n",
       "      <th>0</th>\n",
       "      <td>0.500000</td>\n",
       "      <td>2</td>\n",
       "    </tr>\n",
       "    <tr>\n",
       "      <th>1</th>\n",
       "      <td>0.444444</td>\n",
       "      <td>9</td>\n",
       "    </tr>\n",
       "    <tr>\n",
       "      <th>2</th>\n",
       "      <td>0.767442</td>\n",
       "      <td>43</td>\n",
       "    </tr>\n",
       "    <tr>\n",
       "      <th>3</th>\n",
       "      <td>0.777778</td>\n",
       "      <td>81</td>\n",
       "    </tr>\n",
       "    <tr>\n",
       "      <th>4</th>\n",
       "      <td>0.805195</td>\n",
       "      <td>154</td>\n",
       "    </tr>\n",
       "  </tbody>\n",
       "</table>\n",
       "</div>"
      ],
      "text/plain": [
       "               mean  count\n",
       "Medu Fedu                 \n",
       "0    0     1.000000      1\n",
       "     1     0.333333      3\n",
       "     2     1.000000      5\n",
       "1    0     0.750000      4\n",
       "     1     0.458716    109\n",
       "     2     0.574468     47\n",
       "     3     0.384615     13\n",
       "     4     0.666667      3\n",
       "2    1     0.567568     74\n",
       "     2     0.658915    129\n",
       "     3     0.648649     37\n",
       "     4     0.615385     13\n",
       "3    1     0.545455     33\n",
       "     2     0.597015     67\n",
       "     3     0.617284     81\n",
       "     4     0.722222     36\n",
       "4    0     0.500000      2\n",
       "     1     0.444444      9\n",
       "     2     0.767442     43\n",
       "     3     0.777778     81\n",
       "     4     0.805195    154"
      ]
     },
     "execution_count": 9,
     "metadata": {},
     "output_type": "execute_result"
    }
   ],
   "source": [
    "edu = DataFrame.groupby([\"Medu\", \"Fedu\"])[\"PASSED\"].agg([\"mean\", \"count\"])\n",
    "edu"
   ]
  },
  {
   "cell_type": "code",
   "execution_count": 10,
   "metadata": {},
   "outputs": [
    {
     "data": {
      "image/png": "[encoded data removed]",
      "text/plain": [
       "<Figure size 640x480 with 2 Axes>"
      ]
     },
     "metadata": {},
     "output_type": "display_data"
    }
   ],
   "source": [
    "sns.heatmap(edu.drop(columns=[\"count\"]).reset_index().pivot(index=\"Medu\", columns=\"Fedu\", values=\"mean\"), annot=True, fmt=\".2f\")\n",
    "plt.title(\"Chance\")\n",
    "plt.show()"
   ]
  },
  {
   "cell_type": "markdown",
   "metadata": {},
   "source": [
    "Бачимо, що найвищі шанси мають учні, у яких освіта обох батьків висока. Значення 1 при `Medu` = 0 не є показовими, адже, як можна побачити у датафреймі зверху, кількість учнів з такими значеннями ознак дуже мала."
   ]
  },
  {
   "cell_type": "markdown",
   "metadata": {},
   "source": [
    "Подивимось на кореляцію між числовими ознаками"
   ]
  },
  {
   "cell_type": "code",
   "execution_count": 11,
   "metadata": {},
   "outputs": [
    {
     "data": {
      "text/plain": [
       "<Axes: >"
      ]
     },
     "execution_count": 11,
     "metadata": {},
     "output_type": "execute_result"
    },
    {
     "data": {
      "image/png": "[encoded data removed]",
      "text/plain": [
       "<Figure size 1600x900 with 2 Axes>"
      ]
     },
     "metadata": {},
     "output_type": "display_data"
    }
   ],
   "source": [
    "corr = DataFrame.drop(columns=[\"PASSED\"]).corr()\n",
    "fig, ax = plt.subplots(figsize=(16, 9))\n",
    "sns.heatmap(corr, mask=np.zeros_like(corr, dtype=np.bool),vmin=-1, vmax=1,ax=ax,cmap=sns.diverging_palette(220, 10, as_cmap=True), square=True, annot=True)\n"
   ]
  },
  {
   "cell_type": "markdown",
   "metadata": {},
   "source": [
    "Бачимо, що більшість ознак не є лінійно пов'язаними (як і передбачає регресія). Сильніший зв'язок можемо побачити лише в:\n",
    "* `Dalc` i `Walc`, що є доволі логічно, бо споживання алкоголю в робочі дні/вихідні повинно бути пов'язаним\n",
    "* `Walc` i `goout`. Учні які більше гуляють - споживають більше алкоголю на вихідних.\n",
    "* `Medu` i `Fedu`. Освіта батьків корелює між собою.\n",
    "\n",
    "(При навчанні спробували викидати ознаки з високою кореляцією, але це не дало бажаних результатів)"
   ]
  },
  {
   "cell_type": "markdown",
   "metadata": {},
   "source": [
    "Далі спробуємо визначити об'єкти з аномальними значеннями числових ознак (які можуть зміщувати результати навчання) і видалити їх. Робити це будемо наступним чином:\n",
    "* Напишемо функцію, яка в циклі буде проходити по кожній числовій ознаці і визначати викиди\n",
    "* На кожній ітерації викидом вважатимемо те значення, яке `менше за 1-ий квартал - крок викиду` або `більше за 3-ій квартал + крок викиду`\n",
    "* За крок викиду візьмемо 1,5 * IQR (Interquartile range)\n",
    "* Для кожної ознаки записуватимемо індекси викидів в список. Після обробки всіх ознак видалятимемо ті рядки, поява яких в списку викидів перевищувала n разів"
   ]
  },
  {
   "cell_type": "code",
   "execution_count": 12,
   "metadata": {},
   "outputs": [
    {
     "data": {
      "text/plain": [
       "<Axes: xlabel='sem'>"
      ]
     },
     "execution_count": 12,
     "metadata": {},
     "output_type": "execute_result"
    },
    {
     "data": {
      "image/png": "[encoded data removed]",
      "text/plain": [
       "<Figure size 1600x400 with 4 Axes>"
      ]
     },
     "metadata": {},
     "output_type": "display_data"
    }
   ],
   "source": [
    "fig, ax = plt.subplots(nrows=2, ncols=2, figsize=(16,4))\n",
    "sns.boxplot(x=DataFrame[\"age\"], palette=\"YlGnBu\", ax = ax[0][0])\n",
    "sns.boxplot(x=DataFrame[\"failures\"], palette=\"YlGnBu\", ax = ax[0][1])\n",
    "sns.boxplot(x=DataFrame[\"absences\"], palette=\"YlGnBu\", ax = ax[1][0])\n",
    "sns.boxplot(x=DataFrame[\"sem\"], palette=\"YlGnBu\", ax = ax[1][1])"
   ]
  },
  {
   "cell_type": "code",
   "execution_count": 13,
   "metadata": {},
   "outputs": [
    {
     "data": {
      "text/plain": [
       "[596, 807]"
      ]
     },
     "execution_count": 13,
     "metadata": {},
     "output_type": "execute_result"
    }
   ],
   "source": [
    "from collections import Counter\n",
    "def outliers(df, features, n):\n",
    "    outliers_ids = []\n",
    "    for feature in features:\n",
    "        q1 = np.percentile(df[feature], 25)\n",
    "        q3 = np.percentile(df[feature], 75)\n",
    "        step = 1.5*(q3 - q1)\n",
    "        ids = df[(df[feature] < q1 - step) | (df[feature] > q3 + step)].index\n",
    "        outliers_ids.extend(ids)\n",
    "    outliers_ids = Counter(outliers_ids)\n",
    "    delete = [key for key,value in outliers_ids.items() if value > n]\n",
    "    return delete\n",
    "delete = outliers(DataFrame, [\"absences\", \"failures\", \"sem\", \"age\"], 2)\n",
    "delete"
   ]
  },
  {
   "cell_type": "markdown",
   "metadata": {},
   "source": [
    "Отже маємо два об'єкта, які мають аномальне значення в більше ніж 2-ох з 4-ох ознак. Видалимо їх (Після спроб на різних моделях протягом виконання роботи виявилось, що такий хід в основному не покращує результати. Можливо це пов'язано з малою кількістю власне числових ознак)."
   ]
  },
  {
   "cell_type": "code",
   "execution_count": 14,
   "metadata": {},
   "outputs": [],
   "source": [
    "#DataFrame = DataFrame.drop(delete).reset_index(drop=True)"
   ]
  },
  {
   "cell_type": "markdown",
   "metadata": {},
   "source": [
    "Також бачимо на boxplot, що ознака sem має аномальні від'ємні значення, які суперечать опису ознаки, тому поміняємо їх на 0"
   ]
  },
  {
   "cell_type": "code",
   "execution_count": 15,
   "metadata": {},
   "outputs": [],
   "source": [
    "DataFrame[\"sem\"] = DataFrame[\"sem\"].map(lambda sem: 0 if sem < 0 else sem)"
   ]
  },
  {
   "cell_type": "markdown",
   "metadata": {},
   "source": [
    "## Завдання 2\n",
    "\n",
    "[3 бали] \n",
    "\n",
    "Навчити модель логістичної регресії (`sklearn.linear_model.LogisticRegression`) лише за числовими ознаками. Дослідити вплив коефіцієнта та типу регуляризації на результат\n",
    "\n",
    "* Знайти оптимальні параметри коефіцієнта та типу регуляризації (`penalty`, `C`) за допомогою процедури крос-валідації.\n",
    "\n",
    "* Для всіх моделей знайти середню точність (accuracy) [частку правильних відповідей] на відкладеній вибірці.\n",
    "\n",
    "* Зробити висновки."
   ]
  },
  {
   "cell_type": "markdown",
   "metadata": {},
   "source": [
    "Поділимо дані на навчальну і тестову вибірки"
   ]
  },
  {
   "cell_type": "code",
   "execution_count": 16,
   "metadata": {},
   "outputs": [],
   "source": [
    "from sklearn.model_selection import train_test_split\n",
    "y = DataFrame[\"PASSED\"]\n",
    "X = DataFrame.drop(columns=[\"PASSED\"])\n",
    "X_train, X_test, y_train, y_test = train_test_split(X, y, test_size=0.2, random_state=4)"
   ]
  },
  {
   "cell_type": "markdown",
   "metadata": {},
   "source": [
    "Виділимо числові ознаки:"
   ]
  },
  {
   "cell_type": "code",
   "execution_count": 17,
   "metadata": {},
   "outputs": [],
   "source": [
    "numeric_features = X.select_dtypes([np.number]).columns"
   ]
  },
  {
   "cell_type": "markdown",
   "metadata": {},
   "source": [
    "Навчимо модель логістичної регресії лише за числовими ознаками"
   ]
  },
  {
   "cell_type": "code",
   "execution_count": 18,
   "metadata": {},
   "outputs": [
    {
     "name": "stdout",
     "output_type": "stream",
     "text": [
      "----------LogisticRegression()----------\n",
      "Test Accuracy: 0.873\n",
      "Train Accuracy: 0.8834\n"
     ]
    }
   ],
   "source": [
    "from sklearn.linear_model import LogisticRegression\n",
    "from sklearn.metrics import accuracy_score, recall_score, precision_score, f1_score, roc_auc_score\n",
    "\n",
    "\n",
    "def output(model, y_pred, y_train_pred, all_metrics=False):\n",
    "    global y_train, y_test, y_final\n",
    "    print(\"-\"*10 + f\"{model}\" + \"-\"*10)\n",
    "    print(f\"Test Accuracy: {round(accuracy_score(y_test, y_pred), 4)}\")\n",
    "    print(f\"Train Accuracy: {round(accuracy_score(y_train, y_train_pred), 4)}\")\n",
    "    if all_metrics:\n",
    "        for metric, scorer in {\"Precision\":precision_score,\"Recall\":recall_score,\"F1\":f1_score, \"ROC_AUC\":roc_auc_score}.items():\n",
    "            print()\n",
    "            print(f\"Test {metric}: {round(scorer(y_test, y_pred), 4)}\")\n",
    "            print(f\"Train {metric}: {round(scorer(y_train, y_train_pred), 4)}\")\n",
    "     \n",
    "\n",
    "log_reg = LogisticRegression()\n",
    "log_reg.fit(X_train[numeric_features], y_train)\n",
    "\n",
    "y_train_pred = log_reg.predict(X_train[numeric_features])\n",
    "y_pred = log_reg.predict(X_test[numeric_features])\n",
    "\n",
    "output(log_reg, y_pred, y_train_pred)"
   ]
  },
  {
   "cell_type": "markdown",
   "metadata": {},
   "source": [
    "Підберемо найкращі гіперпараметри коефіцієнта та типу регуляризації (`C`, `penalty`) методом крос-валідації. UPD: Спробував підбирати по площі під ROC-кривою, це в основному не погіршило accuracy, але збільшило площу"
   ]
  },
  {
   "cell_type": "code",
   "execution_count": 19,
   "metadata": {},
   "outputs": [
    {
     "data": {
      "text/html": [
       "<style>#sk-container-id-1 {color: black;background-color: white;}#sk-container-id-1 pre{padding: 0;}#sk-container-id-1 div.sk-toggleable {background-color: white;}#sk-container-id-1 label.sk-toggleable__label {cursor: pointer;display: block;width: 100%;margin-bottom: 0;padding: 0.3em;box-sizing: border-box;text-align: center;}#sk-container-id-1 label.sk-toggleable__label-arrow:before {content: \"▸\";float: left;margin-right: 0.25em;color: #696969;}#sk-container-id-1 label.sk-toggleable__label-arrow:hover:before {color: black;}#sk-container-id-1 div.sk-estimator:hover label.sk-toggleable__label-arrow:before {color: black;}#sk-container-id-1 div.sk-toggleable__content {max-height: 0;max-width: 0;overflow: hidden;text-align: left;background-color: #f0f8ff;}#sk-container-id-1 div.sk-toggleable__content pre {margin: 0.2em;color: black;border-radius: 0.25em;background-color: #f0f8ff;}#sk-container-id-1 input.sk-toggleable__control:checked~div.sk-toggleable__content {max-height: 200px;max-width: 100%;overflow: auto;}#sk-container-id-1 input.sk-toggleable__control:checked~label.sk-toggleable__label-arrow:before {content: \"▾\";}#sk-container-id-1 div.sk-estimator input.sk-toggleable__control:checked~label.sk-toggleable__label {background-color: #d4ebff;}#sk-container-id-1 div.sk-label input.sk-toggleable__control:checked~label.sk-toggleable__label {background-color: #d4ebff;}#sk-container-id-1 input.sk-hidden--visually {border: 0;clip: rect(1px 1px 1px 1px);clip: rect(1px, 1px, 1px, 1px);height: 1px;margin: -1px;overflow: hidden;padding: 0;position: absolute;width: 1px;}#sk-container-id-1 div.sk-estimator {font-family: monospace;background-color: #f0f8ff;border: 1px dotted black;border-radius: 0.25em;box-sizing: border-box;margin-bottom: 0.5em;}#sk-container-id-1 div.sk-estimator:hover {background-color: #d4ebff;}#sk-container-id-1 div.sk-parallel-item::after {content: \"\";width: 100%;border-bottom: 1px solid gray;flex-grow: 1;}#sk-container-id-1 div.sk-label:hover label.sk-toggleable__label {background-color: #d4ebff;}#sk-container-id-1 div.sk-serial::before {content: \"\";position: absolute;border-left: 1px solid gray;box-sizing: border-box;top: 0;bottom: 0;left: 50%;z-index: 0;}#sk-container-id-1 div.sk-serial {display: flex;flex-direction: column;align-items: center;background-color: white;padding-right: 0.2em;padding-left: 0.2em;position: relative;}#sk-container-id-1 div.sk-item {position: relative;z-index: 1;}#sk-container-id-1 div.sk-parallel {display: flex;align-items: stretch;justify-content: center;background-color: white;position: relative;}#sk-container-id-1 div.sk-item::before, #sk-container-id-1 div.sk-parallel-item::before {content: \"\";position: absolute;border-left: 1px solid gray;box-sizing: border-box;top: 0;bottom: 0;left: 50%;z-index: -1;}#sk-container-id-1 div.sk-parallel-item {display: flex;flex-direction: column;z-index: 1;position: relative;background-color: white;}#sk-container-id-1 div.sk-parallel-item:first-child::after {align-self: flex-end;width: 50%;}#sk-container-id-1 div.sk-parallel-item:last-child::after {align-self: flex-start;width: 50%;}#sk-container-id-1 div.sk-parallel-item:only-child::after {width: 0;}#sk-container-id-1 div.sk-dashed-wrapped {border: 1px dashed gray;margin: 0 0.4em 0.5em 0.4em;box-sizing: border-box;padding-bottom: 0.4em;background-color: white;}#sk-container-id-1 div.sk-label label {font-family: monospace;font-weight: bold;display: inline-block;line-height: 1.2em;}#sk-container-id-1 div.sk-label-container {text-align: center;}#sk-container-id-1 div.sk-container {/* jupyter's `normalize.less` sets `[hidden] { display: none; }` but bootstrap.min.css set `[hidden] { display: none !important; }` so we also need the `!important` here to be able to override the default hidden behavior on the sphinx rendered scikit-learn.org. See: https://github.com/scikit-learn/scikit-learn/issues/21755 */display: inline-block !important;position: relative;}#sk-container-id-1 div.sk-text-repr-fallback {display: none;}</style><div id=\"sk-container-id-1\" class=\"sk-top-container\"><div class=\"sk-text-repr-fallback\"><pre>LogisticRegression(C=247.70763559917089)</pre><b>In a Jupyter environment, please rerun this cell to show the HTML representation or trust the notebook. <br />On GitHub, the HTML representation is unable to render, please try loading this page with nbviewer.org.</b></div><div class=\"sk-container\" hidden><div class=\"sk-item\"><div class=\"sk-estimator sk-toggleable\"><input class=\"sk-toggleable__control sk-hidden--visually\" id=\"sk-estimator-id-1\" type=\"checkbox\" checked><label for=\"sk-estimator-id-1\" class=\"sk-toggleable__label sk-toggleable__label-arrow\">LogisticRegression</label><div class=\"sk-toggleable__content\"><pre>LogisticRegression(C=247.70763559917089)</pre></div></div></div></div></div>"
      ],
      "text/plain": [
       "LogisticRegression(C=247.70763559917089)"
      ]
     },
     "execution_count": 19,
     "metadata": {},
     "output_type": "execute_result"
    }
   ],
   "source": [
    "from sklearn.model_selection import GridSearchCV\n",
    "def get_best_params_numeric(model=LogisticRegression(), X_tr=X_train):\n",
    "    global y_train\n",
    "    #solver = [\"lbfgs\", \"saga\", \"newton-cg\"]\n",
    "    penalty = [\"l1\", \"l2\", \"elasticnet\", None]\n",
    "    c_val = np.logspace(-2, 3, 100)\n",
    "    searcher = GridSearchCV(model, [{\"penalty\": penalty, \"C\": c_val}], n_jobs=-1, scoring= \"roc_auc\", cv = 10)\n",
    "    searcher.fit(X_tr, y_train)\n",
    "    model.set_params(**searcher.best_params_)\n",
    "    return model\n",
    "get_best_params_numeric(model=log_reg, X_tr = X_train[numeric_features])"
   ]
  },
  {
   "cell_type": "markdown",
   "metadata": {},
   "source": [
    "Подивимось на результати після підбору"
   ]
  },
  {
   "cell_type": "code",
   "execution_count": 20,
   "metadata": {},
   "outputs": [
    {
     "name": "stdout",
     "output_type": "stream",
     "text": [
      "----------LogisticRegression(C=247.70763559917089)----------\n",
      "Test Accuracy: 0.9048\n",
      "Train Accuracy: 0.8927\n"
     ]
    }
   ],
   "source": [
    "log_reg.fit(X_train[numeric_features], y_train)\n",
    "\n",
    "y_train_pred = log_reg.predict(X_train[numeric_features])\n",
    "y_pred = log_reg.predict(X_test[numeric_features])\n",
    "\n",
    "output(log_reg, y_pred, y_train_pred)"
   ]
  },
  {
   "cell_type": "markdown",
   "metadata": {},
   "source": [
    "Як бачимо, результати покращились. Спробуємо також використати скейлинг і бінаризацію ознак:"
   ]
  },
  {
   "cell_type": "code",
   "execution_count": 21,
   "metadata": {},
   "outputs": [],
   "source": [
    "from sklearn.preprocessing import StandardScaler, PolynomialFeatures,KBinsDiscretizer\n",
    "\n",
    "scaler = StandardScaler()\n",
    "X_train_scaled = scaler.fit_transform(X_train[numeric_features])\n",
    "X_test_scaled = scaler.transform(X_test[numeric_features])\n",
    "\n",
    "binn = KBinsDiscretizer(n_bins=6, strategy='quantile')\n",
    "X_train_preprocessed = binn.fit_transform(X_train[numeric_features])\n",
    "X_test_preprocessed = binn.transform(X_test[numeric_features])\n"
   ]
  },
  {
   "cell_type": "markdown",
   "metadata": {},
   "source": [
    "Зразу підберемо найкращі гіперпараметри для таких кроків при навчанні"
   ]
  },
  {
   "cell_type": "code",
   "execution_count": 22,
   "metadata": {},
   "outputs": [
    {
     "data": {
      "text/html": [
       "<style>#sk-container-id-2 {color: black;background-color: white;}#sk-container-id-2 pre{padding: 0;}#sk-container-id-2 div.sk-toggleable {background-color: white;}#sk-container-id-2 label.sk-toggleable__label {cursor: pointer;display: block;width: 100%;margin-bottom: 0;padding: 0.3em;box-sizing: border-box;text-align: center;}#sk-container-id-2 label.sk-toggleable__label-arrow:before {content: \"▸\";float: left;margin-right: 0.25em;color: #696969;}#sk-container-id-2 label.sk-toggleable__label-arrow:hover:before {color: black;}#sk-container-id-2 div.sk-estimator:hover label.sk-toggleable__label-arrow:before {color: black;}#sk-container-id-2 div.sk-toggleable__content {max-height: 0;max-width: 0;overflow: hidden;text-align: left;background-color: #f0f8ff;}#sk-container-id-2 div.sk-toggleable__content pre {margin: 0.2em;color: black;border-radius: 0.25em;background-color: #f0f8ff;}#sk-container-id-2 input.sk-toggleable__control:checked~div.sk-toggleable__content {max-height: 200px;max-width: 100%;overflow: auto;}#sk-container-id-2 input.sk-toggleable__control:checked~label.sk-toggleable__label-arrow:before {content: \"▾\";}#sk-container-id-2 div.sk-estimator input.sk-toggleable__control:checked~label.sk-toggleable__label {background-color: #d4ebff;}#sk-container-id-2 div.sk-label input.sk-toggleable__control:checked~label.sk-toggleable__label {background-color: #d4ebff;}#sk-container-id-2 input.sk-hidden--visually {border: 0;clip: rect(1px 1px 1px 1px);clip: rect(1px, 1px, 1px, 1px);height: 1px;margin: -1px;overflow: hidden;padding: 0;position: absolute;width: 1px;}#sk-container-id-2 div.sk-estimator {font-family: monospace;background-color: #f0f8ff;border: 1px dotted black;border-radius: 0.25em;box-sizing: border-box;margin-bottom: 0.5em;}#sk-container-id-2 div.sk-estimator:hover {background-color: #d4ebff;}#sk-container-id-2 div.sk-parallel-item::after {content: \"\";width: 100%;border-bottom: 1px solid gray;flex-grow: 1;}#sk-container-id-2 div.sk-label:hover label.sk-toggleable__label {background-color: #d4ebff;}#sk-container-id-2 div.sk-serial::before {content: \"\";position: absolute;border-left: 1px solid gray;box-sizing: border-box;top: 0;bottom: 0;left: 50%;z-index: 0;}#sk-container-id-2 div.sk-serial {display: flex;flex-direction: column;align-items: center;background-color: white;padding-right: 0.2em;padding-left: 0.2em;position: relative;}#sk-container-id-2 div.sk-item {position: relative;z-index: 1;}#sk-container-id-2 div.sk-parallel {display: flex;align-items: stretch;justify-content: center;background-color: white;position: relative;}#sk-container-id-2 div.sk-item::before, #sk-container-id-2 div.sk-parallel-item::before {content: \"\";position: absolute;border-left: 1px solid gray;box-sizing: border-box;top: 0;bottom: 0;left: 50%;z-index: -1;}#sk-container-id-2 div.sk-parallel-item {display: flex;flex-direction: column;z-index: 1;position: relative;background-color: white;}#sk-container-id-2 div.sk-parallel-item:first-child::after {align-self: flex-end;width: 50%;}#sk-container-id-2 div.sk-parallel-item:last-child::after {align-self: flex-start;width: 50%;}#sk-container-id-2 div.sk-parallel-item:only-child::after {width: 0;}#sk-container-id-2 div.sk-dashed-wrapped {border: 1px dashed gray;margin: 0 0.4em 0.5em 0.4em;box-sizing: border-box;padding-bottom: 0.4em;background-color: white;}#sk-container-id-2 div.sk-label label {font-family: monospace;font-weight: bold;display: inline-block;line-height: 1.2em;}#sk-container-id-2 div.sk-label-container {text-align: center;}#sk-container-id-2 div.sk-container {/* jupyter's `normalize.less` sets `[hidden] { display: none; }` but bootstrap.min.css set `[hidden] { display: none !important; }` so we also need the `!important` here to be able to override the default hidden behavior on the sphinx rendered scikit-learn.org. See: https://github.com/scikit-learn/scikit-learn/issues/21755 */display: inline-block !important;position: relative;}#sk-container-id-2 div.sk-text-repr-fallback {display: none;}</style><div id=\"sk-container-id-2\" class=\"sk-top-container\"><div class=\"sk-text-repr-fallback\"><pre>LogisticRegression(C=0.41320124001153363)</pre><b>In a Jupyter environment, please rerun this cell to show the HTML representation or trust the notebook. <br />On GitHub, the HTML representation is unable to render, please try loading this page with nbviewer.org.</b></div><div class=\"sk-container\" hidden><div class=\"sk-item\"><div class=\"sk-estimator sk-toggleable\"><input class=\"sk-toggleable__control sk-hidden--visually\" id=\"sk-estimator-id-2\" type=\"checkbox\" checked><label for=\"sk-estimator-id-2\" class=\"sk-toggleable__label sk-toggleable__label-arrow\">LogisticRegression</label><div class=\"sk-toggleable__content\"><pre>LogisticRegression(C=0.41320124001153363)</pre></div></div></div></div></div>"
      ],
      "text/plain": [
       "LogisticRegression(C=0.41320124001153363)"
      ]
     },
     "execution_count": 22,
     "metadata": {},
     "output_type": "execute_result"
    }
   ],
   "source": [
    "get_best_params_numeric(model=log_reg, X_tr=X_train_preprocessed)"
   ]
  },
  {
   "cell_type": "markdown",
   "metadata": {},
   "source": [
    "Подивимось на результат"
   ]
  },
  {
   "cell_type": "code",
   "execution_count": 23,
   "metadata": {},
   "outputs": [
    {
     "name": "stdout",
     "output_type": "stream",
     "text": [
      "----------LogisticRegression(C=0.41320124001153363)----------\n",
      "Test Accuracy: 0.9206\n",
      "Train Accuracy: 0.8993\n",
      "\n",
      "Test Precision: 0.9407\n",
      "Train Precision: 0.9195\n",
      "\n",
      "Test Recall: 0.9328\n",
      "Train Recall: 0.927\n",
      "\n",
      "Test F1: 0.9367\n",
      "Train F1: 0.9232\n",
      "\n",
      "Test ROC_AUC: 0.9164\n",
      "Train ROC_AUC: 0.8872\n"
     ]
    }
   ],
   "source": [
    "log_reg.fit(X_train_preprocessed, y_train)\n",
    "\n",
    "y_train_pred = log_reg.predict(X_train_preprocessed)\n",
    "y_pred = log_reg.predict(X_test_preprocessed)\n",
    "\n",
    "output(log_reg, y_pred, y_train_pred, all_metrics=True)"
   ]
  },
  {
   "cell_type": "markdown",
   "metadata": {},
   "source": [
    "Як бачимо результат знову покращився. Додатково можемо спробувати використати `PolynomialFeatures` для утворення нових ознак і зв'язків."
   ]
  },
  {
   "cell_type": "code",
   "execution_count": 24,
   "metadata": {},
   "outputs": [
    {
     "name": "stdout",
     "output_type": "stream",
     "text": [
      "----------LogisticRegression(C=0.41320124001153363)----------\n",
      "Test Accuracy: 0.873\n",
      "Train Accuracy: 0.9762\n"
     ]
    }
   ],
   "source": [
    "pol = PolynomialFeatures(degree=2, include_bias=False)\n",
    "X_train_preprocessed = pol.fit_transform(X_train_preprocessed)\n",
    "X_test_preprocessed = pol.transform(X_test_preprocessed)\n",
    "\n",
    "log_reg.fit(X_train_preprocessed, y_train)\n",
    "\n",
    "y_train_pred = log_reg.predict(X_train_preprocessed)\n",
    "y_pred = log_reg.predict(X_test_preprocessed)\n",
    "\n",
    "output(log_reg, y_pred, y_train_pred)"
   ]
  },
  {
   "cell_type": "markdown",
   "metadata": {},
   "source": [
    "Бачимо, що використання `PolynomialFeatures` зумовило перенавчання моделі. Спробуємо перевести деякі числові ознаки в категорійні (бо вони більше схожі на них) і навчити модель по тих, що залишились. Це має зменшити ризик перенавчання, адже ми зменшимо кількість ознак. "
   ]
  },
  {
   "cell_type": "markdown",
   "metadata": {},
   "source": [
    "Також зразу підберемо найкращі параметри."
   ]
  },
  {
   "cell_type": "code",
   "execution_count": 25,
   "metadata": {},
   "outputs": [
    {
     "name": "stdout",
     "output_type": "stream",
     "text": [
      "----------LogisticRegression(C=0.41320124001153363)----------\n",
      "Test Accuracy: 0.9101\n",
      "Train Accuracy: 0.9033\n",
      "\n",
      "Test Precision: 0.9474\n",
      "Train Precision: 0.9251\n",
      "\n",
      "Test Recall: 0.9076\n",
      "Train Recall: 0.927\n",
      "\n",
      "Test F1: 0.927\n",
      "Train F1: 0.926\n",
      "\n",
      "Test ROC_AUC: 0.9109\n",
      "Train ROC_AUC: 0.8929\n"
     ]
    }
   ],
   "source": [
    "numeric_features = [\"absences\", \"failures\", \"sem\", \"age\"]\n",
    "\n",
    "scaler = StandardScaler()\n",
    "X_train_scaled = scaler.fit_transform(X_train[numeric_features])\n",
    "X_test_scaled = scaler.transform(X_test[numeric_features])\n",
    "\n",
    "binn = KBinsDiscretizer(n_bins=6, strategy='quantile')\n",
    "X_train_preprocessed = binn.fit_transform(X_train_scaled)\n",
    "X_test_preprocessed = binn.transform(X_test_scaled)\n",
    "\n",
    "pol = PolynomialFeatures(degree=2, include_bias=False)\n",
    "X_train_preprocessed = pol.fit_transform(X_train_preprocessed)\n",
    "X_test_preprocessed = pol.transform(X_test_preprocessed)\n",
    "\n",
    "log_reg.fit(X_train_preprocessed, y_train)\n",
    "\n",
    "y_train_pred = log_reg.predict(X_train_preprocessed)\n",
    "y_pred = log_reg.predict(X_test_preprocessed)\n",
    "\n",
    "output(log_reg, y_pred, y_train_pred, all_metrics=True)"
   ]
  },
  {
   "cell_type": "markdown",
   "metadata": {},
   "source": [
    "Справді, це допомогло уникнути перенавчання. В порівнянні з моделлю без `PolynomialFeatures` (яка показувала найкращий результат), частка правильних відповідей даної моделі нижча. Але точність і площа під ROC-кривою показують більш стабільний результат.  "
   ]
  },
  {
   "cell_type": "markdown",
   "metadata": {},
   "source": [
    "##### Висновок.\n",
    "Найкращою моделлю можемо вважати `LogisticRegression`, для якої ми підібрали найкращі гіперпараметри (найкращою виявилась `l2` регуляризація), використали скейлинг і бінаризацію, а також перевели більшість числових ознак в категорійні (для уникнення перенавчання). Модель з додатковим використанням `PolynomialFeatures` після спроб на різних поділах вибірки показує дуже подібні результати, тому, враховуючи стабільні результати на інших метриках, її також можемо вважати найкращою."
   ]
  },
  {
   "cell_type": "markdown",
   "metadata": {},
   "source": [
    "## Завдання 3\n",
    "\n",
    "[6 балів] \n",
    "\n",
    "Навчити модель яка розв'язує задачу двокласової класифікації з використанням усіх ознак.\n",
    "Використати `sklearn.linear_model.LogisticRegression(solver='saga')` та `sklearn.linear_model.SGDClassifier(loss='log_loss')`.\n",
    "\n",
    "* Здійснити пошук оптимальних гіперпараметрів моделі використовуючи `GridSearchCV`\n",
    "    * (`penalty`, `C`) для `LogisticRegression(solver='saga')`\n",
    "    * (`penalty`, `alpha`, `l1_ratio`, `max_iter`, `learning_rate`) для `SGDClassifier(loss='log_loss')`\n",
    "* Мета -- отримати якомога кращий результат. \n",
    "* Оцінити точність (precision), повноту (recall), F-міру (F1-score), AUC-ROC використовуючи функції з модуля `sklearn.metrics`. \n",
    "* Зобразити криві ROC та Precision-Recall для найкращої моделі. \n",
    "* Зробити висновки.\n",
    "    "
   ]
  },
  {
   "cell_type": "markdown",
   "metadata": {},
   "source": [
    "Виділимо категорійні і числові(повні) ознаки"
   ]
  },
  {
   "cell_type": "code",
   "execution_count": 26,
   "metadata": {},
   "outputs": [
    {
     "data": {
      "text/html": [
       "<div>\n",
       "<style scoped>\n",
       "    .dataframe tbody tr th:only-of-type {\n",
       "        vertical-align: middle;\n",
       "    }\n",
       "\n",
       "    .dataframe tbody tr th {\n",
       "        vertical-align: top;\n",
       "    }\n",
       "\n",
       "    .dataframe thead th {\n",
       "        text-align: right;\n",
       "    }\n",
       "</style>\n",
       "<table border=\"1\" class=\"dataframe\">\n",
       "  <thead>\n",
       "    <tr style=\"text-align: right;\">\n",
       "      <th></th>\n",
       "      <th>school</th>\n",
       "      <th>sex</th>\n",
       "      <th>address</th>\n",
       "      <th>famsize</th>\n",
       "      <th>Pstatus</th>\n",
       "      <th>Mjob</th>\n",
       "      <th>Fjob</th>\n",
       "      <th>reason</th>\n",
       "      <th>guardian</th>\n",
       "      <th>schoolsup</th>\n",
       "      <th>famsup</th>\n",
       "      <th>paid</th>\n",
       "      <th>activities</th>\n",
       "      <th>nursery</th>\n",
       "      <th>higher</th>\n",
       "      <th>internet</th>\n",
       "      <th>romantic</th>\n",
       "    </tr>\n",
       "  </thead>\n",
       "  <tbody>\n",
       "    <tr>\n",
       "      <th>805</th>\n",
       "      <td>GP</td>\n",
       "      <td>M</td>\n",
       "      <td>U</td>\n",
       "      <td>GT3</td>\n",
       "      <td>T</td>\n",
       "      <td>other</td>\n",
       "      <td>other</td>\n",
       "      <td>course</td>\n",
       "      <td>mother</td>\n",
       "      <td>no</td>\n",
       "      <td>no</td>\n",
       "      <td>no</td>\n",
       "      <td>no</td>\n",
       "      <td>yes</td>\n",
       "      <td>yes</td>\n",
       "      <td>yes</td>\n",
       "      <td>no</td>\n",
       "    </tr>\n",
       "    <tr>\n",
       "      <th>326</th>\n",
       "      <td>GP</td>\n",
       "      <td>F</td>\n",
       "      <td>U</td>\n",
       "      <td>GT3</td>\n",
       "      <td>T</td>\n",
       "      <td>other</td>\n",
       "      <td>other</td>\n",
       "      <td>course</td>\n",
       "      <td>father</td>\n",
       "      <td>no</td>\n",
       "      <td>no</td>\n",
       "      <td>no</td>\n",
       "      <td>yes</td>\n",
       "      <td>yes</td>\n",
       "      <td>yes</td>\n",
       "      <td>yes</td>\n",
       "      <td>yes</td>\n",
       "    </tr>\n",
       "    <tr>\n",
       "      <th>288</th>\n",
       "      <td>GP</td>\n",
       "      <td>F</td>\n",
       "      <td>U</td>\n",
       "      <td>GT3</td>\n",
       "      <td>T</td>\n",
       "      <td>at_home</td>\n",
       "      <td>health</td>\n",
       "      <td>reputation</td>\n",
       "      <td>mother</td>\n",
       "      <td>no</td>\n",
       "      <td>yes</td>\n",
       "      <td>no</td>\n",
       "      <td>no</td>\n",
       "      <td>yes</td>\n",
       "      <td>yes</td>\n",
       "      <td>yes</td>\n",
       "      <td>yes</td>\n",
       "    </tr>\n",
       "    <tr>\n",
       "      <th>345</th>\n",
       "      <td>GP</td>\n",
       "      <td>M</td>\n",
       "      <td>R</td>\n",
       "      <td>GT3</td>\n",
       "      <td>T</td>\n",
       "      <td>services</td>\n",
       "      <td>other</td>\n",
       "      <td>course</td>\n",
       "      <td>mother</td>\n",
       "      <td>no</td>\n",
       "      <td>yes</td>\n",
       "      <td>no</td>\n",
       "      <td>no</td>\n",
       "      <td>yes</td>\n",
       "      <td>yes</td>\n",
       "      <td>yes</td>\n",
       "      <td>no</td>\n",
       "    </tr>\n",
       "    <tr>\n",
       "      <th>62</th>\n",
       "      <td>GP</td>\n",
       "      <td>M</td>\n",
       "      <td>U</td>\n",
       "      <td>GT3</td>\n",
       "      <td>A</td>\n",
       "      <td>other</td>\n",
       "      <td>services</td>\n",
       "      <td>reputation</td>\n",
       "      <td>mother</td>\n",
       "      <td>no</td>\n",
       "      <td>yes</td>\n",
       "      <td>no</td>\n",
       "      <td>yes</td>\n",
       "      <td>no</td>\n",
       "      <td>yes</td>\n",
       "      <td>yes</td>\n",
       "      <td>yes</td>\n",
       "    </tr>\n",
       "    <tr>\n",
       "      <th>...</th>\n",
       "      <td>...</td>\n",
       "      <td>...</td>\n",
       "      <td>...</td>\n",
       "      <td>...</td>\n",
       "      <td>...</td>\n",
       "      <td>...</td>\n",
       "      <td>...</td>\n",
       "      <td>...</td>\n",
       "      <td>...</td>\n",
       "      <td>...</td>\n",
       "      <td>...</td>\n",
       "      <td>...</td>\n",
       "      <td>...</td>\n",
       "      <td>...</td>\n",
       "      <td>...</td>\n",
       "      <td>...</td>\n",
       "      <td>...</td>\n",
       "    </tr>\n",
       "    <tr>\n",
       "      <th>897</th>\n",
       "      <td>GP</td>\n",
       "      <td>F</td>\n",
       "      <td>U</td>\n",
       "      <td>GT3</td>\n",
       "      <td>T</td>\n",
       "      <td>at_home</td>\n",
       "      <td>other</td>\n",
       "      <td>course</td>\n",
       "      <td>mother</td>\n",
       "      <td>no</td>\n",
       "      <td>yes</td>\n",
       "      <td>no</td>\n",
       "      <td>no</td>\n",
       "      <td>yes</td>\n",
       "      <td>yes</td>\n",
       "      <td>yes</td>\n",
       "      <td>no</td>\n",
       "    </tr>\n",
       "    <tr>\n",
       "      <th>709</th>\n",
       "      <td>GP</td>\n",
       "      <td>M</td>\n",
       "      <td>U</td>\n",
       "      <td>LE3</td>\n",
       "      <td>T</td>\n",
       "      <td>services</td>\n",
       "      <td>services</td>\n",
       "      <td>reputation</td>\n",
       "      <td>father</td>\n",
       "      <td>no</td>\n",
       "      <td>yes</td>\n",
       "      <td>no</td>\n",
       "      <td>yes</td>\n",
       "      <td>yes</td>\n",
       "      <td>yes</td>\n",
       "      <td>yes</td>\n",
       "      <td>no</td>\n",
       "    </tr>\n",
       "    <tr>\n",
       "      <th>439</th>\n",
       "      <td>MS</td>\n",
       "      <td>F</td>\n",
       "      <td>R</td>\n",
       "      <td>GT3</td>\n",
       "      <td>T</td>\n",
       "      <td>other</td>\n",
       "      <td>other</td>\n",
       "      <td>course</td>\n",
       "      <td>father</td>\n",
       "      <td>no</td>\n",
       "      <td>yes</td>\n",
       "      <td>no</td>\n",
       "      <td>no</td>\n",
       "      <td>yes</td>\n",
       "      <td>no</td>\n",
       "      <td>yes</td>\n",
       "      <td>no</td>\n",
       "    </tr>\n",
       "    <tr>\n",
       "      <th>174</th>\n",
       "      <td>GP</td>\n",
       "      <td>F</td>\n",
       "      <td>U</td>\n",
       "      <td>GT3</td>\n",
       "      <td>T</td>\n",
       "      <td>services</td>\n",
       "      <td>other</td>\n",
       "      <td>reputation</td>\n",
       "      <td>mother</td>\n",
       "      <td>no</td>\n",
       "      <td>no</td>\n",
       "      <td>no</td>\n",
       "      <td>yes</td>\n",
       "      <td>no</td>\n",
       "      <td>yes</td>\n",
       "      <td>yes</td>\n",
       "      <td>no</td>\n",
       "    </tr>\n",
       "    <tr>\n",
       "      <th>122</th>\n",
       "      <td>GP</td>\n",
       "      <td>F</td>\n",
       "      <td>U</td>\n",
       "      <td>GT3</td>\n",
       "      <td>A</td>\n",
       "      <td>services</td>\n",
       "      <td>other</td>\n",
       "      <td>course</td>\n",
       "      <td>father</td>\n",
       "      <td>no</td>\n",
       "      <td>no</td>\n",
       "      <td>no</td>\n",
       "      <td>no</td>\n",
       "      <td>yes</td>\n",
       "      <td>yes</td>\n",
       "      <td>yes</td>\n",
       "      <td>no</td>\n",
       "    </tr>\n",
       "  </tbody>\n",
       "</table>\n",
       "<p>755 rows × 17 columns</p>\n",
       "</div>"
      ],
      "text/plain": [
       "    school sex address famsize Pstatus      Mjob      Fjob      reason  \\\n",
       "805     GP   M       U     GT3       T     other     other      course   \n",
       "326     GP   F       U     GT3       T     other     other      course   \n",
       "288     GP   F       U     GT3       T   at_home    health  reputation   \n",
       "345     GP   M       R     GT3       T  services     other      course   \n",
       "62      GP   M       U     GT3       A     other  services  reputation   \n",
       "..     ...  ..     ...     ...     ...       ...       ...         ...   \n",
       "897     GP   F       U     GT3       T   at_home     other      course   \n",
       "709     GP   M       U     LE3       T  services  services  reputation   \n",
       "439     MS   F       R     GT3       T     other     other      course   \n",
       "174     GP   F       U     GT3       T  services     other  reputation   \n",
       "122     GP   F       U     GT3       A  services     other      course   \n",
       "\n",
       "    guardian schoolsup famsup paid activities nursery higher internet romantic  \n",
       "805   mother        no     no   no         no     yes    yes      yes       no  \n",
       "326   father        no     no   no        yes     yes    yes      yes      yes  \n",
       "288   mother        no    yes   no         no     yes    yes      yes      yes  \n",
       "345   mother        no    yes   no         no     yes    yes      yes       no  \n",
       "62    mother        no    yes   no        yes      no    yes      yes      yes  \n",
       "..       ...       ...    ...  ...        ...     ...    ...      ...      ...  \n",
       "897   mother        no    yes   no         no     yes    yes      yes       no  \n",
       "709   father        no    yes   no        yes     yes    yes      yes       no  \n",
       "439   father        no    yes   no         no     yes     no      yes       no  \n",
       "174   mother        no     no   no        yes      no    yes      yes       no  \n",
       "122   father        no     no   no         no     yes    yes      yes       no  \n",
       "\n",
       "[755 rows x 17 columns]"
      ]
     },
     "execution_count": 26,
     "metadata": {},
     "output_type": "execute_result"
    }
   ],
   "source": [
    "categorical = X_train.dtypes[X_train.dtypes == \"object\"].index\n",
    "numeric_features = X.select_dtypes([np.number]).columns\n",
    "X_train[categorical]"
   ]
  },
  {
   "cell_type": "markdown",
   "metadata": {},
   "source": [
    "Закодуємо категорійні ознаки методом `One-Hot` кодування. Також далі для зручності користуватимемось класами `Pipeline` i `ColumnTransformer`. Для числових ознак продовжуємо використовувати скейлинг."
   ]
  },
  {
   "cell_type": "code",
   "execution_count": 27,
   "metadata": {},
   "outputs": [
    {
     "name": "stdout",
     "output_type": "stream",
     "text": [
      "----------LogisticRegression()----------\n",
      "Test Accuracy: 0.873\n",
      "Train Accuracy: 0.8967\n",
      "\n",
      "Test Precision: 0.8926\n",
      "Train Precision: 0.9029\n",
      "\n",
      "Test Recall: 0.9076\n",
      "Train Recall: 0.9432\n",
      "\n",
      "Test F1: 0.9\n",
      "Train F1: 0.9226\n",
      "\n",
      "Test ROC_AUC: 0.8609\n",
      "Train ROC_AUC: 0.8762\n",
      "----------LogisticRegression(solver='saga')----------\n",
      "Test Accuracy: 0.873\n",
      "Train Accuracy: 0.8967\n",
      "\n",
      "Test Precision: 0.8926\n",
      "Train Precision: 0.9029\n",
      "\n",
      "Test Recall: 0.9076\n",
      "Train Recall: 0.9432\n",
      "\n",
      "Test F1: 0.9\n",
      "Train F1: 0.9226\n",
      "\n",
      "Test ROC_AUC: 0.8609\n",
      "Train ROC_AUC: 0.8762\n",
      "----------SGDClassifier(loss='log_loss')----------\n",
      "Test Accuracy: 0.8624\n",
      "Train Accuracy: 0.8901\n",
      "\n",
      "Test Precision: 0.9115\n",
      "Train Precision: 0.9325\n",
      "\n",
      "Test Recall: 0.8655\n",
      "Train Recall: 0.8966\n",
      "\n",
      "Test F1: 0.8879\n",
      "Train F1: 0.9142\n",
      "\n",
      "Test ROC_AUC: 0.8613\n",
      "Train ROC_AUC: 0.8872\n"
     ]
    }
   ],
   "source": [
    "from sklearn.compose import ColumnTransformer\n",
    "from sklearn.pipeline import Pipeline\n",
    "from sklearn.preprocessing import OneHotEncoder\n",
    "from sklearn.linear_model import SGDClassifier\n",
    "\n",
    "column_transformer = ColumnTransformer([\n",
    "    ('ohe', OneHotEncoder(), categorical),\n",
    "    ('scaling', StandardScaler(), numeric_features)\n",
    "])\n",
    "models = [LogisticRegression(), LogisticRegression(solver=\"saga\"), SGDClassifier(loss=\"log_loss\")]\n",
    "for model in models:\n",
    "    pipeline = Pipeline(steps=[\n",
    "        ('preprocessing', column_transformer),\n",
    "        ('regression', model)\n",
    "    ])\n",
    "    \n",
    "\n",
    "    pipeline.fit(X_train, y_train)\n",
    "    y_pred = pipeline.predict(X_test)\n",
    "    y_train_pred = pipeline.predict(X_train)\n",
    "    output(model, y_pred, y_train_pred, all_metrics=True)"
   ]
  },
  {
   "cell_type": "markdown",
   "metadata": {},
   "source": [
    "Далі підберемо найкращі гіперпараметри для наших класифікаторів"
   ]
  },
  {
   "cell_type": "code",
   "execution_count": 28,
   "metadata": {},
   "outputs": [],
   "source": [
    "def get_best_params(pipeline, model):\n",
    "    global X_train, y_train\n",
    "    if type(model) == sklearn.linear_model._logistic.LogisticRegression:\n",
    "        param_grid = {\n",
    "            \"regression__C\": np.logspace(-2,3, 50),\n",
    "            \"regression__penalty\": [\"l1\",\"l2\", \"elasticnet\"]\n",
    "        }\n",
    "    else:\n",
    "        param_grid = {\n",
    "            \"regression__alpha\": np.logspace(-1,3, 10),\n",
    "            \"regression__penalty\": [\"l2\", \"elasticnet\"],\n",
    "            \"regression__l1_ratio\": np.linspace(0,1,5),\n",
    "            \"regression__max_iter\": [int(x) for x in np.linspace(50, 3000, 5)],\n",
    "            \"regression__learning_rate\": [\"optimal\", \"invscaling\", \"adaptive\"]\n",
    "        }\n",
    "    searcher = GridSearchCV(pipeline, [param_grid], n_jobs=-1, scoring= \"accuracy\", cv = 10)\n",
    "    searcher.fit(X_train, y_train)\n",
    "    best = {name[name.find(\"__\") + 2:]: val for name, val in searcher.best_params_.items()}\n",
    "    model.set_params(**best)\n",
    "    return model"
   ]
  },
  {
   "cell_type": "code",
   "execution_count": 29,
   "metadata": {},
   "outputs": [
    {
     "name": "stdout",
     "output_type": "stream",
     "text": [
      "----------LogisticRegression(C=0.42919342601287785)----------\n",
      "Test Accuracy: 0.8571\n",
      "Train Accuracy: 0.8954\n",
      "----------LogisticRegression(C=0.8685113737513529, penalty='l1', solver='saga')----------\n",
      "Test Accuracy: 0.8836\n",
      "Train Accuracy: 0.902\n",
      "----------SGDClassifier(alpha=0.1, l1_ratio=1.0, loss='log_loss', max_iter=787,\n",
      "              penalty='elasticnet')----------\n",
      "Test Accuracy: 0.8571\n",
      "Train Accuracy: 0.8344\n"
     ]
    }
   ],
   "source": [
    "for model in models:\n",
    "    pipeline = Pipeline(steps=[\n",
    "        ('preprocessing', column_transformer),\n",
    "        ('regression', model)\n",
    "    ])\n",
    "    get_best_params(pipeline, model)\n",
    "\n",
    "    pipeline.fit(X_train, y_train)\n",
    "    y_pred = pipeline.predict(X_test)\n",
    "    y_train_pred = pipeline.predict(X_train)\n",
    "    output(model, y_pred, y_train_pred)"
   ]
  },
  {
   "cell_type": "markdown",
   "metadata": {},
   "source": [
    "Бачимо, що результати в основному покращились. Надалі будемо підбирати гіперпараметри лише для моделей `LogisticReression`, адже `SGDClassifier` має низку недоліків, як, наприклад, нестабільність результату і часозатратність на підбір всіх параметрів.\n",
    "\n",
    "Далі спробуємо використати бінаризацію. Зразу підберемо найкращі параметри"
   ]
  },
  {
   "cell_type": "code",
   "execution_count": 30,
   "metadata": {},
   "outputs": [
    {
     "name": "stdout",
     "output_type": "stream",
     "text": [
      "----------LogisticRegression(C=0.05179474679231213)----------\n",
      "Test Accuracy: 0.8889\n",
      "Train Accuracy: 0.906\n",
      "\n",
      "Test Precision: 0.9016\n",
      "Train Precision: 0.9105\n",
      "\n",
      "Test Recall: 0.9244\n",
      "Train Recall: 0.9493\n",
      "\n",
      "Test F1: 0.9129\n",
      "Train F1: 0.9295\n",
      "\n",
      "Test ROC_AUC: 0.8765\n",
      "Train ROC_AUC: 0.8869\n",
      "----------LogisticRegression(C=0.05179474679231213, penalty='l1', solver='saga')----------\n",
      "Test Accuracy: 0.9048\n",
      "Train Accuracy: 0.894\n",
      "\n",
      "Test Precision: 0.9391\n",
      "Train Precision: 0.9057\n",
      "\n",
      "Test Recall: 0.9076\n",
      "Train Recall: 0.9351\n",
      "\n",
      "Test F1: 0.9231\n",
      "Train F1: 0.9202\n",
      "\n",
      "Test ROC_AUC: 0.9038\n",
      "Train ROC_AUC: 0.8759\n",
      "----------SGDClassifier(alpha=0.1, l1_ratio=1.0, loss='log_loss', max_iter=787,\n",
      "              penalty='elasticnet')----------\n",
      "Test Accuracy: 0.8624\n",
      "Train Accuracy: 0.8384\n",
      "\n",
      "Test Precision: 0.8207\n",
      "Train Precision: 0.8139\n",
      "\n",
      "Test Recall: 1.0\n",
      "Train Recall: 0.9757\n",
      "\n",
      "Test F1: 0.9015\n",
      "Train F1: 0.8875\n",
      "\n",
      "Test ROC_AUC: 0.8143\n",
      "Train ROC_AUC: 0.7779\n"
     ]
    }
   ],
   "source": [
    "import sklearn\n",
    "column_transformer = ColumnTransformer([\n",
    "    ('ohe', OneHotEncoder(), categorical),\n",
    "    ('scaling', StandardScaler(), numeric_features),\n",
    "    ('binning', KBinsDiscretizer(n_bins=6, strategy='quantile'), numeric_features),\n",
    "])\n",
    "for model in models:\n",
    "    pipeline = Pipeline(steps=[\n",
    "        ('preprocessing', column_transformer),\n",
    "        ('regression', model)\n",
    "    ])\n",
    "    if model != models[2]:\n",
    "        get_best_params(pipeline,model)\n",
    "    pipeline.fit(X_train, y_train)\n",
    "    y_pred = pipeline.predict(X_test)\n",
    "    y_train_pred = pipeline.predict(X_train)\n",
    "    output(model, y_pred, y_train_pred, all_metrics=True)"
   ]
  },
  {
   "cell_type": "markdown",
   "metadata": {},
   "source": [
    "Бінаризація числових ознак позитивно вплинула на результати класифікаторів. Але більшість числових ознак мають такий вигляд, що немає сенсу їх бінаризувати. Тому переведемо, як і раніше, деякі числові ознаки в категорійні і повторимо навчання."
   ]
  },
  {
   "cell_type": "code",
   "execution_count": 31,
   "metadata": {},
   "outputs": [],
   "source": [
    "DataFrame = DataFrame.astype({\"Medu\": \"object\", \"Fedu\": \"object\", \"traveltime\": \"object\", \"studytime\": \"object\", \"famrel\": \"object\",\n",
    "                             \"freetime\":\"object\", \"goout\": \"object\", \"Dalc\":\"object\", \"Walc\":\"object\", \"health\": \"object\"})\n",
    "y = DataFrame[\"PASSED\"]\n",
    "X = DataFrame.drop(columns=[\"PASSED\"])\n",
    "X_train, X_test, y_train, y_test = train_test_split(X, y, test_size=0.2, random_state=69)\n",
    "categorical = X_train.dtypes[X_train.dtypes == \"object\"].index\n",
    "numeric_features = X.select_dtypes([np.number]).columns\n",
    "\n",
    "\n"
   ]
  },
  {
   "cell_type": "code",
   "execution_count": 32,
   "metadata": {},
   "outputs": [
    {
     "name": "stdout",
     "output_type": "stream",
     "text": [
      "----------LogisticRegression(C=0.33932217718953295)----------\n",
      "Test Accuracy: 0.8836\n",
      "Train Accuracy: 0.9086\n",
      "\n",
      "Test Precision: 0.9225\n",
      "Train Precision: 0.9364\n",
      "\n",
      "Test Recall: 0.9084\n",
      "Train Recall: 0.9189\n",
      "\n",
      "Test F1: 0.9154\n",
      "Train F1: 0.9276\n",
      "\n",
      "Test ROC_AUC: 0.868\n",
      "Train ROC_AUC: 0.9047\n",
      "----------LogisticRegression(C=0.13257113655901095, penalty='l1', solver='saga')----------\n",
      "Test Accuracy: 0.9312\n",
      "Train Accuracy: 0.8887\n",
      "\n",
      "Test Precision: 0.9538\n",
      "Train Precision: 0.9161\n",
      "\n",
      "Test Recall: 0.9466\n",
      "Train Recall: 0.9085\n",
      "\n",
      "Test F1: 0.9502\n",
      "Train F1: 0.9123\n",
      "\n",
      "Test ROC_AUC: 0.9216\n",
      "Train ROC_AUC: 0.8813\n",
      "----------SGDClassifier(alpha=0.1, l1_ratio=1.0, loss='log_loss', max_iter=787,\n",
      "              penalty='elasticnet')----------\n",
      "Test Accuracy: 0.8783\n",
      "Train Accuracy: 0.8291\n",
      "\n",
      "Test Precision: 0.8506\n",
      "Train Precision: 0.8003\n",
      "\n",
      "Test Recall: 1.0\n",
      "Train Recall: 0.9751\n",
      "\n",
      "Test F1: 0.9193\n",
      "Train F1: 0.8791\n",
      "\n",
      "Test ROC_AUC: 0.8017\n",
      "Train ROC_AUC: 0.774\n"
     ]
    }
   ],
   "source": [
    "column_transformer = ColumnTransformer([\n",
    "    ('ohe', OneHotEncoder(), categorical),\n",
    "    ('scaling', StandardScaler(), numeric_features),\n",
    "    ('binning', KBinsDiscretizer(n_bins=6, strategy='quantile'), numeric_features),\n",
    "])\n",
    "for model in models:\n",
    "    pipeline = Pipeline(steps=[\n",
    "        ('preprocessing', column_transformer),\n",
    "        ('regression', model)\n",
    "    ])\n",
    "    if model != models[2]:\n",
    "        get_best_params(pipeline,model)\n",
    "    pipeline.fit(X_train, y_train)\n",
    "    y_pred = pipeline.predict(X_test)\n",
    "    y_train_pred = pipeline.predict(X_train)\n",
    "    output(model, y_pred, y_train_pred, all_metrics=True)"
   ]
  },
  {
   "cell_type": "markdown",
   "metadata": {},
   "source": [
    "Результат `LogisticReression` з `solver = saga` значно покращився. Цей хід також допоможе нам уникнути перенавчання при використанні `PolynomialFeatures`. Спробуємо це зробити, підберемо найкращі параметри."
   ]
  },
  {
   "cell_type": "code",
   "execution_count": 33,
   "metadata": {
    "scrolled": true
   },
   "outputs": [
    {
     "name": "stdout",
     "output_type": "stream",
     "text": [
      "----------LogisticRegression(C=0.020235896477251575)----------\n",
      "Test Accuracy: 0.9048\n",
      "Train Accuracy: 0.894\n",
      "\n",
      "Test Precision: 0.9124\n",
      "Train Precision: 0.9002\n",
      "\n",
      "Test Recall: 0.9542\n",
      "Train Recall: 0.9376\n",
      "\n",
      "Test F1: 0.9328\n",
      "Train F1: 0.9185\n",
      "\n",
      "Test ROC_AUC: 0.8737\n",
      "Train ROC_AUC: 0.8776\n",
      "----------LogisticRegression(C=2.2229964825261956, penalty='l1', solver='saga')----------\n",
      "Test Accuracy: 0.7354\n",
      "Train Accuracy: 0.6596\n",
      "\n",
      "Test Precision: 0.7263\n",
      "Train Precision: 0.6543\n",
      "\n",
      "Test Recall: 0.9924\n",
      "Train Recall: 0.9875\n",
      "\n",
      "Test F1: 0.8387\n",
      "Train F1: 0.7871\n",
      "\n",
      "Test ROC_AUC: 0.5738\n",
      "Train ROC_AUC: 0.5357\n",
      "----------SGDClassifier(alpha=0.1, l1_ratio=1.0, loss='log_loss', max_iter=787,\n",
      "              penalty='elasticnet')----------\n",
      "Test Accuracy: 0.6667\n",
      "Train Accuracy: 0.7007\n",
      "\n",
      "Test Precision: 0.75\n",
      "Train Precision: 0.7629\n",
      "\n",
      "Test Recall: 0.7786\n",
      "Train Recall: 0.7692\n",
      "\n",
      "Test F1: 0.764\n",
      "Train F1: 0.766\n",
      "\n",
      "Test ROC_AUC: 0.5962\n",
      "Train ROC_AUC: 0.6748\n"
     ]
    }
   ],
   "source": [
    "column_transformer = ColumnTransformer([\n",
    "    ('ohe', OneHotEncoder(), categorical),\n",
    "    ('scaling', StandardScaler(), numeric_features),\n",
    "    ('binning', KBinsDiscretizer(n_bins=6, strategy='quantile'), numeric_features),\n",
    "    ('polynoms', PolynomialFeatures(degree=2, include_bias=False), numeric_features)\n",
    "])\n",
    "\n",
    "for model in models:\n",
    "    pipeline = Pipeline(steps=[\n",
    "        ('preprocessing', column_transformer),\n",
    "        ('regression', model)\n",
    "    ])\n",
    "    if model != models[2]:\n",
    "        get_best_params(pipeline,model)\n",
    "    pipeline.fit(X_train, y_train)\n",
    "    y_pred = pipeline.predict(X_test)\n",
    "    y_train_pred = pipeline.predict(X_train)\n",
    "    output(model, y_pred, y_train_pred, all_metrics=True)"
   ]
  },
  {
   "cell_type": "markdown",
   "metadata": {},
   "source": [
    "Бачимо, що результати `SGD` класифікатора і логістичної регресії з `solver=saga` значно погіршились. Проста логістична регресія значно покращила результати на тестовій вибірці, але ROC_AUC метрика показує порівняно погані результати, тому не будемо вважати цю модель найкращою."
   ]
  },
  {
   "cell_type": "markdown",
   "metadata": {},
   "source": [
    "##### Висновок.\n",
    "Найкращою моделлю на всіх ознаках можемо назвати `LogisticRegression(C=0.16768329368110083, penalty='l1', solver='saga')`, для навчання якої використали `One-Hot` кодування, скейлинг і бінаризацію, адже вона показує найкращі результати на всіх порахованих метриках"
   ]
  },
  {
   "cell_type": "markdown",
   "metadata": {},
   "source": [
    "Намалюємо `ROC` i `Precision-Recall` криві для найкращої моделі. \n",
    "\n",
    "Спочатку подивимось остаточні метрики результатів нашої моделі (додамо до параметрів збалансовану вагу класів, бо, як було сказано на початку, розподіл в два класи нерівномірний)"
   ]
  },
  {
   "cell_type": "code",
   "execution_count": 34,
   "metadata": {},
   "outputs": [
    {
     "name": "stdout",
     "output_type": "stream",
     "text": [
      "----------LogisticRegression(C=0.032374575428176434, class_weight='balanced',\n",
      "                   penalty='l1', solver='saga')----------\n",
      "Test Accuracy: 0.9312\n",
      "Train Accuracy: 0.8887\n",
      "\n",
      "Test Precision: 0.9538\n",
      "Train Precision: 0.9161\n",
      "\n",
      "Test Recall: 0.9466\n",
      "Train Recall: 0.9085\n",
      "\n",
      "Test F1: 0.9502\n",
      "Train F1: 0.9123\n",
      "\n",
      "Test ROC_AUC: 0.9216\n",
      "Train ROC_AUC: 0.8813\n"
     ]
    }
   ],
   "source": [
    "column_transformer = ColumnTransformer([\n",
    "    ('ohe', OneHotEncoder(), categorical),\n",
    "    ('scaling', StandardScaler(), numeric_features),\n",
    "    ('binning', KBinsDiscretizer(n_bins=6, strategy='quantile'), numeric_features),\n",
    "])\n",
    "pipeline = Pipeline(steps=[\n",
    "    ('preprocessing', column_transformer),\n",
    "    ('regression', models[1].set_params(class_weight=\"balanced\"))\n",
    "])\n",
    "get_best_params(pipeline,models[1])\n",
    "pipeline.fit(X_train, y_train)\n",
    "y_pred = pipeline.predict(X_test)\n",
    "y_train_pred = pipeline.predict(X_train)\n",
    "output(models[1], y_pred, y_train_pred, all_metrics=True)"
   ]
  },
  {
   "cell_type": "markdown",
   "metadata": {},
   "source": [
    "#### Roc-curve"
   ]
  },
  {
   "cell_type": "code",
   "execution_count": 35,
   "metadata": {},
   "outputs": [
    {
     "data": {
      "image/png": "[encoded data removed]",
      "text/plain": [
       "<Figure size 640x480 with 1 Axes>"
      ]
     },
     "metadata": {},
     "output_type": "display_data"
    },
    {
     "data": {
      "text/plain": [
       "0.98006054224796"
      ]
     },
     "execution_count": 35,
     "metadata": {},
     "output_type": "execute_result"
    }
   ],
   "source": [
    "from sklearn.metrics import roc_curve, auc, precision_recall_curve\n",
    "fpr, tpr, thresholds = roc_curve(y_test, pipeline.predict_proba(X_test)[:, 1])\n",
    "plt.plot(fpr, tpr)\n",
    "plt.xlabel('FPR')\n",
    "plt.ylabel('TPR')\n",
    "plt.show()\n",
    "auc(fpr, tpr)"
   ]
  },
  {
   "cell_type": "markdown",
   "metadata": {},
   "source": [
    "##### Висновок.\n",
    "Як бачимо, наша модель не дає ідеальних прогнозів при жодних значеннях `threshold` (`ROC-curve` не перетинає точку (0,1)). Але таке значення площі під кривою вважається непоганим результатом. Можемо побачити, що значення `auc(fpr,tpr)` пораховане таким способом відрізняється від метрики `roc_auc`, яку ми знайшли для нашої моделі (хоча вони мали б бути однаковими). Це пов'язано з тим, що ці два методи використовують різні підходи до обрахунку, тому значення може незначно відрізнятись."
   ]
  },
  {
   "cell_type": "markdown",
   "metadata": {},
   "source": [
    "#### Precision-Recall curve"
   ]
  },
  {
   "cell_type": "code",
   "execution_count": 36,
   "metadata": {},
   "outputs": [
    {
     "data": {
      "image/png": "[encoded data removed]",
      "text/plain": [
       "<Figure size 640x480 with 1 Axes>"
      ]
     },
     "metadata": {},
     "output_type": "display_data"
    },
    {
     "data": {
      "text/plain": [
       "0.9911345862724174"
      ]
     },
     "execution_count": 36,
     "metadata": {},
     "output_type": "execute_result"
    }
   ],
   "source": [
    "precision, recall, thresholds = precision_recall_curve(y_test, pipeline.predict_proba(X_test)[:, 1])\n",
    "plt.plot(recall, precision)\n",
    "plt.xlabel('recall')\n",
    "plt.ylabel('precision')\n",
    "plt.show()\n",
    "auc(recall, precision)"
   ]
  },
  {
   "cell_type": "markdown",
   "metadata": {},
   "source": [
    "##### Висновок.\n",
    "Аналогічно можемо побачити, що наша модель не дає ідеальних прогнозів на жодному порозі класифікаії (графік не перетинає точку (1,1)). Хоча таке значення теж вважається хорошим результатом"
   ]
  },
  {
   "cell_type": "markdown",
   "metadata": {},
   "source": [
    "### Обрати найкращу модель яка розв'язує задачу класифікації. Для найкращої моделі знайти прогнози на вибірці `predict.csv`. Значення прогнозів та ймовірностей зберегти у файл `predictions_clf.csv`.\n",
    "    \n"
   ]
  },
  {
   "cell_type": "markdown",
   "metadata": {},
   "source": [
    "Ми визначили найкращі моделі для числових і повних ознак. Додатково спробуємо скористатись класифікатором `RandomForest` (Класифікатор, що використовує дерева), який, нариклад, може працювати з категорійними ознаками без `One-Hot` кодування (після спроб навчання з різними кроками виявилось, що One-Hot допомагає отримати кращі результати)"
   ]
  },
  {
   "cell_type": "code",
   "execution_count": 37,
   "metadata": {},
   "outputs": [
    {
     "name": "stdout",
     "output_type": "stream",
     "text": [
      "----------RandomForestClassifier(max_depth=7, random_state=0)----------\n",
      "Test Accuracy: 0.9312\n",
      "Train Accuracy: 0.9563\n",
      "\n",
      "Test Precision: 0.9538\n",
      "Train Precision: 0.9571\n",
      "\n",
      "Test Recall: 0.9466\n",
      "Train Recall: 0.9751\n",
      "\n",
      "Test F1: 0.9502\n",
      "Train F1: 0.966\n",
      "\n",
      "Test ROC_AUC: 0.9216\n",
      "Train ROC_AUC: 0.9492\n"
     ]
    }
   ],
   "source": [
    "from sklearn.ensemble import RandomForestClassifier\n",
    "column_transformer = ColumnTransformer([\n",
    "    ('ohe', OneHotEncoder(), categorical),\n",
    "    ('scaling', StandardScaler(), numeric_features),\n",
    "    ('binning', KBinsDiscretizer(n_bins=6, strategy='quantile'), numeric_features),\n",
    "    ('polynoms', PolynomialFeatures(degree=2, include_bias=False), numeric_features)\n",
    "])\n",
    "pipeline = Pipeline(steps=[\n",
    "    ('preprocessing', column_transformer),\n",
    "    ('regression', RandomForestClassifier(random_state=0, max_depth=7))\n",
    "])\n",
    "pipeline.fit(X_train, y_train)\n",
    "y_pred = pipeline.predict(X_test)\n",
    "y_train_pred = pipeline.predict(X_train)\n",
    "output(RandomForestClassifier(max_depth=7, random_state=0), y_pred, y_train_pred, all_metrics=True)"
   ]
  },
  {
   "cell_type": "markdown",
   "metadata": {},
   "source": [
    "Отримали результати дуже подібні до нашої найкращої моделі, але з покращенням деяких метрик. Побудуємо також крафіки ROC i Precision-Recall кривих і зробимо прогнози на основі цього класифікатора. "
   ]
  },
  {
   "cell_type": "code",
   "execution_count": 38,
   "metadata": {},
   "outputs": [
    {
     "data": {
      "image/png": "[encoded data removed]",
      "text/plain": [
       "<Figure size 640x480 with 1 Axes>"
      ]
     },
     "metadata": {},
     "output_type": "display_data"
    },
    {
     "data": {
      "text/plain": [
       "0.9743353514082653"
      ]
     },
     "execution_count": 38,
     "metadata": {},
     "output_type": "execute_result"
    }
   ],
   "source": [
    "fpr, tpr, thresholds = roc_curve(y_test, pipeline.predict_proba(X_test)[:, 1])\n",
    "plt.plot(fpr, tpr)\n",
    "plt.xlabel('FPR')\n",
    "plt.ylabel('TPR')\n",
    "plt.show()\n",
    "auc(fpr, tpr)"
   ]
  },
  {
   "cell_type": "code",
   "execution_count": 39,
   "metadata": {},
   "outputs": [
    {
     "data": {
      "image/png": "[encoded data removed]",
      "text/plain": [
       "<Figure size 640x480 with 1 Axes>"
      ]
     },
     "metadata": {},
     "output_type": "display_data"
    },
    {
     "data": {
      "text/plain": [
       "0.9883428532471571"
      ]
     },
     "execution_count": 39,
     "metadata": {},
     "output_type": "execute_result"
    }
   ],
   "source": [
    "precision, recall, thresholds = precision_recall_curve(y_test, pipeline.predict_proba(X_test)[:, 1])\n",
    "plt.plot(recall, precision)\n",
    "plt.xlabel('recall')\n",
    "plt.ylabel('precision')\n",
    "plt.show()\n",
    "auc(recall, precision)"
   ]
  },
  {
   "cell_type": "markdown",
   "metadata": {},
   "source": [
    "Після спроб з різними параметрами, кроками навчання і різним поділом на навчальну і тестову вибірку, вирішив спробувати замінити predict з моделі RandomForest (оскільки вона не входить у цю роботу) на найкращу LogisticRegression саме з завдання 2 (показала стабільніші результати)"
   ]
  },
  {
   "cell_type": "code",
   "execution_count": 40,
   "metadata": {},
   "outputs": [],
   "source": [
    "predict = pd.read_csv(\"predict.csv\").astype({\"Medu\": \"object\", \"Fedu\": \"object\", \"traveltime\": \"object\", \"studytime\": \"object\", \"famrel\": \"object\",\n",
    "                             \"freetime\":\"object\", \"goout\": \"object\", \"Dalc\":\"object\", \"Walc\":\"object\", \"health\": \"object\"})\n",
    "predict[\"sem\"] = predict[\"sem\"].map(lambda sem: 0 if sem < 0 else sem)"
   ]
  },
  {
   "cell_type": "code",
   "execution_count": 41,
   "metadata": {},
   "outputs": [
    {
     "data": {
      "text/html": [
       "<style>#sk-container-id-3 {color: black;background-color: white;}#sk-container-id-3 pre{padding: 0;}#sk-container-id-3 div.sk-toggleable {background-color: white;}#sk-container-id-3 label.sk-toggleable__label {cursor: pointer;display: block;width: 100%;margin-bottom: 0;padding: 0.3em;box-sizing: border-box;text-align: center;}#sk-container-id-3 label.sk-toggleable__label-arrow:before {content: \"▸\";float: left;margin-right: 0.25em;color: #696969;}#sk-container-id-3 label.sk-toggleable__label-arrow:hover:before {color: black;}#sk-container-id-3 div.sk-estimator:hover label.sk-toggleable__label-arrow:before {color: black;}#sk-container-id-3 div.sk-toggleable__content {max-height: 0;max-width: 0;overflow: hidden;text-align: left;background-color: #f0f8ff;}#sk-container-id-3 div.sk-toggleable__content pre {margin: 0.2em;color: black;border-radius: 0.25em;background-color: #f0f8ff;}#sk-container-id-3 input.sk-toggleable__control:checked~div.sk-toggleable__content {max-height: 200px;max-width: 100%;overflow: auto;}#sk-container-id-3 input.sk-toggleable__control:checked~label.sk-toggleable__label-arrow:before {content: \"▾\";}#sk-container-id-3 div.sk-estimator input.sk-toggleable__control:checked~label.sk-toggleable__label {background-color: #d4ebff;}#sk-container-id-3 div.sk-label input.sk-toggleable__control:checked~label.sk-toggleable__label {background-color: #d4ebff;}#sk-container-id-3 input.sk-hidden--visually {border: 0;clip: rect(1px 1px 1px 1px);clip: rect(1px, 1px, 1px, 1px);height: 1px;margin: -1px;overflow: hidden;padding: 0;position: absolute;width: 1px;}#sk-container-id-3 div.sk-estimator {font-family: monospace;background-color: #f0f8ff;border: 1px dotted black;border-radius: 0.25em;box-sizing: border-box;margin-bottom: 0.5em;}#sk-container-id-3 div.sk-estimator:hover {background-color: #d4ebff;}#sk-container-id-3 div.sk-parallel-item::after {content: \"\";width: 100%;border-bottom: 1px solid gray;flex-grow: 1;}#sk-container-id-3 div.sk-label:hover label.sk-toggleable__label {background-color: #d4ebff;}#sk-container-id-3 div.sk-serial::before {content: \"\";position: absolute;border-left: 1px solid gray;box-sizing: border-box;top: 0;bottom: 0;left: 50%;z-index: 0;}#sk-container-id-3 div.sk-serial {display: flex;flex-direction: column;align-items: center;background-color: white;padding-right: 0.2em;padding-left: 0.2em;position: relative;}#sk-container-id-3 div.sk-item {position: relative;z-index: 1;}#sk-container-id-3 div.sk-parallel {display: flex;align-items: stretch;justify-content: center;background-color: white;position: relative;}#sk-container-id-3 div.sk-item::before, #sk-container-id-3 div.sk-parallel-item::before {content: \"\";position: absolute;border-left: 1px solid gray;box-sizing: border-box;top: 0;bottom: 0;left: 50%;z-index: -1;}#sk-container-id-3 div.sk-parallel-item {display: flex;flex-direction: column;z-index: 1;position: relative;background-color: white;}#sk-container-id-3 div.sk-parallel-item:first-child::after {align-self: flex-end;width: 50%;}#sk-container-id-3 div.sk-parallel-item:last-child::after {align-self: flex-start;width: 50%;}#sk-container-id-3 div.sk-parallel-item:only-child::after {width: 0;}#sk-container-id-3 div.sk-dashed-wrapped {border: 1px dashed gray;margin: 0 0.4em 0.5em 0.4em;box-sizing: border-box;padding-bottom: 0.4em;background-color: white;}#sk-container-id-3 div.sk-label label {font-family: monospace;font-weight: bold;display: inline-block;line-height: 1.2em;}#sk-container-id-3 div.sk-label-container {text-align: center;}#sk-container-id-3 div.sk-container {/* jupyter's `normalize.less` sets `[hidden] { display: none; }` but bootstrap.min.css set `[hidden] { display: none !important; }` so we also need the `!important` here to be able to override the default hidden behavior on the sphinx rendered scikit-learn.org. See: https://github.com/scikit-learn/scikit-learn/issues/21755 */display: inline-block !important;position: relative;}#sk-container-id-3 div.sk-text-repr-fallback {display: none;}</style><div id=\"sk-container-id-3\" class=\"sk-top-container\"><div class=\"sk-text-repr-fallback\"><pre>LogisticRegression(C=0.41320124001153363)</pre><b>In a Jupyter environment, please rerun this cell to show the HTML representation or trust the notebook. <br />On GitHub, the HTML representation is unable to render, please try loading this page with nbviewer.org.</b></div><div class=\"sk-container\" hidden><div class=\"sk-item\"><div class=\"sk-estimator sk-toggleable\"><input class=\"sk-toggleable__control sk-hidden--visually\" id=\"sk-estimator-id-3\" type=\"checkbox\" checked><label for=\"sk-estimator-id-3\" class=\"sk-toggleable__label sk-toggleable__label-arrow\">LogisticRegression</label><div class=\"sk-toggleable__content\"><pre>LogisticRegression(C=0.41320124001153363)</pre></div></div></div></div></div>"
      ],
      "text/plain": [
       "LogisticRegression(C=0.41320124001153363)"
      ]
     },
     "execution_count": 41,
     "metadata": {},
     "output_type": "execute_result"
    }
   ],
   "source": [
    "X_train, X_test, y_train, y_test = train_test_split(X, y, test_size=0.2, random_state=81)\n",
    "numeric_features = [\"absences\", \"failures\", \"sem\", \"age\"]\n",
    "scaler = StandardScaler()\n",
    "X_train_scaled = scaler.fit_transform(X_train[numeric_features])\n",
    "predict_scaled = scaler.transform(predict[numeric_features])\n",
    "\n",
    "binn = KBinsDiscretizer(n_bins=6, strategy='quantile')\n",
    "X_train_preprocessed = binn.fit_transform(X_train_scaled)\n",
    "predict_preprocessed = binn.transform(predict_scaled)\n",
    "\n",
    "pol = PolynomialFeatures(degree=2, include_bias=False)\n",
    "X_train_preprocessed = pol.fit_transform(X_train_preprocessed)\n",
    "predict_preprocessed = pol.transform(predict_preprocessed)\n",
    "\n",
    "get_best_params_numeric(log_reg, X_tr=X_train_preprocessed)\n",
    "\n",
    "log_reg.fit(X_train_preprocessed, y_train)"
   ]
  },
  {
   "cell_type": "code",
   "execution_count": 42,
   "metadata": {},
   "outputs": [
    {
     "name": "stdout",
     "output_type": "stream",
     "text": [
      "False 0.06883648016273008\n",
      "False 0.047755108702820896\n",
      "False 0.10707630842441883\n",
      "False 0.29816355658025934\n",
      "False 0.030295722534785855\n",
      "True 0.9797476890047038\n",
      "True 0.6727389887115997\n",
      "True 0.9293582840962947\n",
      "True 0.9891335653753892\n",
      "False 0.030318818343633036\n",
      "False 0.10707630842441883\n",
      "True 0.7636318913907912\n",
      "True 0.6732223190687169\n",
      "True 0.6727389887115997\n",
      "False 0.10707630842441883\n",
      "True 0.9787316464299217\n",
      "True 0.9904731554109579\n",
      "True 0.9267672004650171\n",
      "True 0.9006581686621965\n",
      "False 0.1644780719645501\n",
      "True 0.9826486638790226\n",
      "False 0.10707630842441883\n",
      "False 0.017814152272809317\n",
      "False 0.4458155052990191\n",
      "True 0.6244634725700139\n",
      "True 0.9797476890047038\n",
      "False 0.37586467680703384\n",
      "True 0.9160794379520959\n",
      "True 0.9006581686621965\n",
      "False 0.08500711977978428\n",
      "False 0.14880785191926624\n",
      "True 0.9419295580702729\n",
      "False 0.10707630842441883\n",
      "False 0.047755108702820896\n",
      "True 0.9267672004650171\n",
      "True 0.9890834740285259\n",
      "False 0.12331081091236129\n",
      "True 0.7790371810873464\n",
      "True 0.9690199964979996\n",
      "False 0.03120571544306508\n",
      "True 0.9863858670819358\n",
      "False 0.027114740965093025\n",
      "True 0.9890143915439149\n",
      "True 0.8935750713020175\n",
      "True 0.982174342266813\n",
      "True 0.9826486638790226\n",
      "False 0.30192241579530404\n",
      "True 0.6727389887115997\n",
      "True 0.9747032937614729\n",
      "True 0.5490576577407819\n",
      "True 0.9293582840962947\n",
      "False 0.24417058615507678\n",
      "False 0.29816355658025934\n",
      "False 0.03280629350663031\n",
      "False 0.03804030332222379\n",
      "False 0.22816757098355275\n",
      "True 0.9880848644810517\n",
      "False 0.3339757568963002\n",
      "True 0.6727389887115997\n",
      "True 0.8596862398485187\n",
      "False 0.018786919364394385\n",
      "True 0.9873959889760328\n",
      "True 0.9890143915439149\n",
      "False 0.030318818343633036\n",
      "False 0.05997283997611925\n",
      "False 0.05246583315486168\n",
      "False 0.06883648016273008\n",
      "True 0.9921430768386988\n",
      "True 0.982174342266813\n",
      "True 0.9911387680263902\n",
      "False 0.017814152272809317\n",
      "False 0.3937026687040289\n",
      "True 0.9267672004650171\n",
      "False 0.06883648016273008\n",
      "False 0.4458155052990191\n",
      "True 0.982174342266813\n",
      "False 0.14880785191926624\n",
      "False 0.06883648016273008\n",
      "False 0.10318365747196173\n",
      "False 0.26943382262636617\n",
      "False 0.03804030332222379\n",
      "True 0.9921430768386988\n",
      "True 0.9569713413088933\n",
      "False 0.03053641639239501\n",
      "False 0.12358499004686964\n",
      "True 0.9863617172558932\n",
      "True 0.7636548725834924\n",
      "False 0.059003200585025214\n",
      "True 0.9681492010646454\n",
      "True 0.89306307210826\n",
      "False 0.29816355658025934\n",
      "True 0.6732223190687169\n",
      "True 0.990345221313267\n",
      "False 0.047755108702820896\n",
      "False 0.05246583315486168\n",
      "False 0.018786919364394385\n",
      "True 0.6732223190687169\n",
      "False 0.1907835638141049\n",
      "False 0.089179330287322\n",
      "True 0.9869092604286662\n"
     ]
    }
   ],
   "source": [
    "# Зберегти прогнози у змінну best_clf_model_predictions та ймовірності у best_clf_model_predict_proba\n",
    "best_clf_model_predictions = log_reg.predict(predict_preprocessed)\n",
    "best_clf_model_predict_proba = log_reg.predict_proba(predict_preprocessed)\n",
    "\n",
    "for t in zip(best_clf_model_predictions, best_clf_model_predict_proba[:,1]):\n",
    "    print(*t)"
   ]
  },
  {
   "cell_type": "code",
   "execution_count": 44,
   "metadata": {},
   "outputs": [],
   "source": [
    "# Запустити для створення файлу\n",
    "pd.DataFrame(zip(best_clf_model_predictions, \n",
    "                 best_clf_model_predict_proba[:,1]), \n",
    "             columns=['preds', 'probas']).to_csv('predictions_clf.csv')"
   ]
  },
  {
   "cell_type": "markdown",
   "metadata": {},
   "source": [
    "\n",
    "\n",
    "## Завдання 4. \n",
    "\n",
    "[1 бал]\n",
    "\n",
    "Зберегти результати роботи у jupyter-ноутбук. Ноутбук повинен бути збережений у стані в якому усі клітинки запущені і не містити помилок. Формат назви файлу `М2_Прізвище_Ім'я.ipynb`. \n",
    "\n",
    "Окремо додати файл `predictions_clf.csv`.\n",
    "\n",
    "Додатково можна отримати до [4 балів] за порівняннями результатів найкращих моделей завдань 2 та 3.\n"
   ]
  }
 ],
 "metadata": {
  "kernelspec": {
   "display_name": "Python 3 (ipykernel)",
   "language": "python",
   "name": "python3"
  },
  "language_info": {
   "codemirror_mode": {
    "name": "ipython",
    "version": 3
   },
   "file_extension": ".py",
   "mimetype": "text/x-python",
   "name": "python",
   "nbconvert_exporter": "python",
   "pygments_lexer": "ipython3",
   "version": "3.9.13"
  }
 },
 "nbformat": 4,
 "nbformat_minor": 4
}
